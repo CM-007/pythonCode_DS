{
  "nbformat": 4,
  "nbformat_minor": 0,
  "metadata": {
    "colab": {
      "provenance": [],
      "authorship_tag": "ABX9TyMLp8EhbxNcfMHNl4dbCC9z",
      "include_colab_link": true
    },
    "kernelspec": {
      "name": "python3",
      "display_name": "Python 3"
    },
    "language_info": {
      "name": "python"
    }
  },
  "cells": [
    {
      "cell_type": "markdown",
      "metadata": {
        "id": "view-in-github",
        "colab_type": "text"
      },
      "source": [
        "<a href=\"https://colab.research.google.com/github/CM-007/pythonCode_DS/blob/main/PythonBasics.ipynb\" target=\"_parent\"><img src=\"https://colab.research.google.com/assets/colab-badge.svg\" alt=\"Open In Colab\"/></a>"
      ]
    },
    {
      "cell_type": "markdown",
      "source": [
        "**Python Bacics 01**"
      ],
      "metadata": {
        "id": "K_is8WcgbFsR"
      }
    },
    {
      "cell_type": "markdown",
      "source": [
        "# **21/06/2023**"
      ],
      "metadata": {
        "id": "3wdFIGTSZWT_"
      }
    },
    {
      "cell_type": "code",
      "execution_count": 229,
      "metadata": {
        "colab": {
          "base_uri": "https://localhost:8080/"
        },
        "id": "y-FLNuU0VeUS",
        "outputId": "8564b0cd-c5b1-402e-96f1-98d15bed4b61"
      },
      "outputs": [
        {
          "output_type": "stream",
          "name": "stdout",
          "text": [
            "Welcome to ExcelR!\n"
          ]
        }
      ],
      "source": [
        "print(\"Welcome to ExcelR!\")"
      ]
    },
    {
      "cell_type": "code",
      "source": [
        "print('\"Welcome to ExcelR!\"')"
      ],
      "metadata": {
        "colab": {
          "base_uri": "https://localhost:8080/"
        },
        "id": "N-Lp2AAqcKrB",
        "outputId": "b208a4ef-e146-475f-ba39-e276067079b4"
      },
      "execution_count": 230,
      "outputs": [
        {
          "output_type": "stream",
          "name": "stdout",
          "text": [
            "\"Welcome to ExcelR!\"\n"
          ]
        }
      ]
    },
    {
      "cell_type": "code",
      "source": [
        "120/12*2-4"
      ],
      "metadata": {
        "colab": {
          "base_uri": "https://localhost:8080/"
        },
        "id": "DoQ3DtLKcKuc",
        "outputId": "8d1cb3f7-f02c-4316-9601-ab48f156574a"
      },
      "execution_count": 231,
      "outputs": [
        {
          "output_type": "execute_result",
          "data": {
            "text/plain": [
              "16.0"
            ]
          },
          "metadata": {},
          "execution_count": 231
        }
      ]
    },
    {
      "cell_type": "code",
      "source": [
        "marks = 20\n",
        "marks"
      ],
      "metadata": {
        "colab": {
          "base_uri": "https://localhost:8080/"
        },
        "id": "UzlknwcXdp6l",
        "outputId": "5bdd3d01-b3a7-4b76-ff9d-834963813311"
      },
      "execution_count": 232,
      "outputs": [
        {
          "output_type": "execute_result",
          "data": {
            "text/plain": [
              "20"
            ]
          },
          "metadata": {},
          "execution_count": 232
        }
      ]
    },
    {
      "cell_type": "code",
      "source": [
        "type(marks)"
      ],
      "metadata": {
        "colab": {
          "base_uri": "https://localhost:8080/"
        },
        "id": "slrbUw73dqMO",
        "outputId": "f0d19757-0bea-40c2-fcce-a2d7bdbb610e"
      },
      "execution_count": 233,
      "outputs": [
        {
          "output_type": "execute_result",
          "data": {
            "text/plain": [
              "int"
            ]
          },
          "metadata": {},
          "execution_count": 233
        }
      ]
    },
    {
      "cell_type": "code",
      "source": [
        "# Power function(**)\n",
        "5**4"
      ],
      "metadata": {
        "colab": {
          "base_uri": "https://localhost:8080/"
        },
        "id": "_bhBuvPHeTqB",
        "outputId": "75922408-0cc5-4a50-8f5f-ca4d69eb8dff"
      },
      "execution_count": 234,
      "outputs": [
        {
          "output_type": "execute_result",
          "data": {
            "text/plain": [
              "625"
            ]
          },
          "metadata": {},
          "execution_count": 234
        }
      ]
    },
    {
      "cell_type": "code",
      "source": [
        "price = 50.5\n",
        "price\n",
        "type(price) #only shows o/p of last line"
      ],
      "metadata": {
        "colab": {
          "base_uri": "https://localhost:8080/"
        },
        "id": "jZc_LA9UeTvi",
        "outputId": "fffa6ef0-6521-4c49-cb84-06c7a595a8fb"
      },
      "execution_count": 235,
      "outputs": [
        {
          "output_type": "execute_result",
          "data": {
            "text/plain": [
              "float"
            ]
          },
          "metadata": {},
          "execution_count": 235
        }
      ]
    },
    {
      "cell_type": "code",
      "source": [
        "price = 50.5\n",
        "print(price)\n",
        "type(price)"
      ],
      "metadata": {
        "colab": {
          "base_uri": "https://localhost:8080/"
        },
        "id": "EwnCHjPieTsu",
        "outputId": "5f7a54f3-9764-44ab-8ff2-d5413cf8a9a7"
      },
      "execution_count": 236,
      "outputs": [
        {
          "output_type": "stream",
          "name": "stdout",
          "text": [
            "50.5\n"
          ]
        },
        {
          "output_type": "execute_result",
          "data": {
            "text/plain": [
              "float"
            ]
          },
          "metadata": {},
          "execution_count": 236
        }
      ]
    },
    {
      "cell_type": "code",
      "source": [
        "name = \"Neha\"\n",
        "type(name)"
      ],
      "metadata": {
        "colab": {
          "base_uri": "https://localhost:8080/"
        },
        "id": "PAHMz-k2eTy9",
        "outputId": "98ef1d52-5538-4582-93bb-7de3be86f115"
      },
      "execution_count": 237,
      "outputs": [
        {
          "output_type": "execute_result",
          "data": {
            "text/plain": [
              "str"
            ]
          },
          "metadata": {},
          "execution_count": 237
        }
      ]
    },
    {
      "cell_type": "code",
      "source": [
        "dir(str)"
      ],
      "metadata": {
        "colab": {
          "base_uri": "https://localhost:8080/"
        },
        "id": "na_9C5uHf5i6",
        "outputId": "17e41da3-0fea-48f1-c8c6-7698fd271673"
      },
      "execution_count": 238,
      "outputs": [
        {
          "output_type": "execute_result",
          "data": {
            "text/plain": [
              "['__add__',\n",
              " '__class__',\n",
              " '__contains__',\n",
              " '__delattr__',\n",
              " '__dir__',\n",
              " '__doc__',\n",
              " '__eq__',\n",
              " '__format__',\n",
              " '__ge__',\n",
              " '__getattribute__',\n",
              " '__getitem__',\n",
              " '__getnewargs__',\n",
              " '__gt__',\n",
              " '__hash__',\n",
              " '__init__',\n",
              " '__init_subclass__',\n",
              " '__iter__',\n",
              " '__le__',\n",
              " '__len__',\n",
              " '__lt__',\n",
              " '__mod__',\n",
              " '__mul__',\n",
              " '__ne__',\n",
              " '__new__',\n",
              " '__reduce__',\n",
              " '__reduce_ex__',\n",
              " '__repr__',\n",
              " '__rmod__',\n",
              " '__rmul__',\n",
              " '__setattr__',\n",
              " '__sizeof__',\n",
              " '__str__',\n",
              " '__subclasshook__',\n",
              " 'capitalize',\n",
              " 'casefold',\n",
              " 'center',\n",
              " 'count',\n",
              " 'encode',\n",
              " 'endswith',\n",
              " 'expandtabs',\n",
              " 'find',\n",
              " 'format',\n",
              " 'format_map',\n",
              " 'index',\n",
              " 'isalnum',\n",
              " 'isalpha',\n",
              " 'isascii',\n",
              " 'isdecimal',\n",
              " 'isdigit',\n",
              " 'isidentifier',\n",
              " 'islower',\n",
              " 'isnumeric',\n",
              " 'isprintable',\n",
              " 'isspace',\n",
              " 'istitle',\n",
              " 'isupper',\n",
              " 'join',\n",
              " 'ljust',\n",
              " 'lower',\n",
              " 'lstrip',\n",
              " 'maketrans',\n",
              " 'partition',\n",
              " 'removeprefix',\n",
              " 'removesuffix',\n",
              " 'replace',\n",
              " 'rfind',\n",
              " 'rindex',\n",
              " 'rjust',\n",
              " 'rpartition',\n",
              " 'rsplit',\n",
              " 'rstrip',\n",
              " 'split',\n",
              " 'splitlines',\n",
              " 'startswith',\n",
              " 'strip',\n",
              " 'swapcase',\n",
              " 'title',\n",
              " 'translate',\n",
              " 'upper',\n",
              " 'zfill']"
            ]
          },
          "metadata": {},
          "execution_count": 238
        }
      ]
    },
    {
      "cell_type": "code",
      "source": [
        "str1 = \"welcome to Data Science\"\n",
        "str1.capitalize()"
      ],
      "metadata": {
        "colab": {
          "base_uri": "https://localhost:8080/",
          "height": 36
        },
        "id": "6J7pl8JQf5Uj",
        "outputId": "fd2e1f28-27c9-445b-a88f-43c3dd6a48f3"
      },
      "execution_count": 239,
      "outputs": [
        {
          "output_type": "execute_result",
          "data": {
            "text/plain": [
              "'Welcome to data science'"
            ],
            "application/vnd.google.colaboratory.intrinsic+json": {
              "type": "string"
            }
          },
          "metadata": {},
          "execution_count": 239
        }
      ]
    },
    {
      "cell_type": "code",
      "source": [
        "str1"
      ],
      "metadata": {
        "colab": {
          "base_uri": "https://localhost:8080/",
          "height": 36
        },
        "id": "3RgybCvQf5Fp",
        "outputId": "49801cb0-8e57-4dc1-fa30-2d2fceb98814"
      },
      "execution_count": 240,
      "outputs": [
        {
          "output_type": "execute_result",
          "data": {
            "text/plain": [
              "'welcome to Data Science'"
            ],
            "application/vnd.google.colaboratory.intrinsic+json": {
              "type": "string"
            }
          },
          "metadata": {},
          "execution_count": 240
        }
      ]
    },
    {
      "cell_type": "code",
      "source": [
        "str1.upper()"
      ],
      "metadata": {
        "colab": {
          "base_uri": "https://localhost:8080/",
          "height": 36
        },
        "id": "cWKXM-ucf5B-",
        "outputId": "9eb77eae-8eec-43c9-e577-c7caa67ca5b5"
      },
      "execution_count": 241,
      "outputs": [
        {
          "output_type": "execute_result",
          "data": {
            "text/plain": [
              "'WELCOME TO DATA SCIENCE'"
            ],
            "application/vnd.google.colaboratory.intrinsic+json": {
              "type": "string"
            }
          },
          "metadata": {},
          "execution_count": 241
        }
      ]
    },
    {
      "cell_type": "code",
      "source": [
        "str1.lower()"
      ],
      "metadata": {
        "colab": {
          "base_uri": "https://localhost:8080/",
          "height": 36
        },
        "id": "0nKPNS3tg9tW",
        "outputId": "a7e47a24-a53a-41a8-c375-ec5898df67f6"
      },
      "execution_count": 242,
      "outputs": [
        {
          "output_type": "execute_result",
          "data": {
            "text/plain": [
              "'welcome to data science'"
            ],
            "application/vnd.google.colaboratory.intrinsic+json": {
              "type": "string"
            }
          },
          "metadata": {},
          "execution_count": 242
        }
      ]
    },
    {
      "cell_type": "code",
      "source": [
        "str1.title()"
      ],
      "metadata": {
        "colab": {
          "base_uri": "https://localhost:8080/",
          "height": 36
        },
        "id": "a1tXahfUg9wF",
        "outputId": "dc5c7f92-789a-4c97-d9ab-6f3cb684dfaf"
      },
      "execution_count": 243,
      "outputs": [
        {
          "output_type": "execute_result",
          "data": {
            "text/plain": [
              "'Welcome To Data Science'"
            ],
            "application/vnd.google.colaboratory.intrinsic+json": {
              "type": "string"
            }
          },
          "metadata": {},
          "execution_count": 243
        }
      ]
    },
    {
      "cell_type": "code",
      "source": [
        "food =\"bIrYAni\"\n",
        "name=\"sNEHAL\"\n",
        "\n",
        "print(food.swapcase())\n",
        "name.swapcase()"
      ],
      "metadata": {
        "colab": {
          "base_uri": "https://localhost:8080/",
          "height": 54
        },
        "id": "v5jNtovQg9zK",
        "outputId": "db94f2a1-2bea-4cf0-f52d-1c50a70e722e"
      },
      "execution_count": 244,
      "outputs": [
        {
          "output_type": "stream",
          "name": "stdout",
          "text": [
            "BiRyaNI\n"
          ]
        },
        {
          "output_type": "execute_result",
          "data": {
            "text/plain": [
              "'Snehal'"
            ],
            "application/vnd.google.colaboratory.intrinsic+json": {
              "type": "string"
            }
          },
          "metadata": {},
          "execution_count": 244
        }
      ]
    },
    {
      "cell_type": "code",
      "source": [
        "food.capitalize()"
      ],
      "metadata": {
        "colab": {
          "base_uri": "https://localhost:8080/",
          "height": 36
        },
        "id": "plxJlit7h8SQ",
        "outputId": "a8e45efd-d9a7-47d1-fb18-7382e11beb27"
      },
      "execution_count": 245,
      "outputs": [
        {
          "output_type": "execute_result",
          "data": {
            "text/plain": [
              "'Biryani'"
            ],
            "application/vnd.google.colaboratory.intrinsic+json": {
              "type": "string"
            }
          },
          "metadata": {},
          "execution_count": 245
        }
      ]
    },
    {
      "cell_type": "code",
      "source": [
        "s1 =\"My name is Chetan\"\n",
        "print(s1.split()) #list of string is created"
      ],
      "metadata": {
        "colab": {
          "base_uri": "https://localhost:8080/"
        },
        "id": "wUoV7oxah8O1",
        "outputId": "4cb733b8-bab7-4e5d-bff3-9d9225b3036e"
      },
      "execution_count": 246,
      "outputs": [
        {
          "output_type": "stream",
          "name": "stdout",
          "text": [
            "['My', 'name', 'is', 'Chetan']\n"
          ]
        }
      ]
    },
    {
      "cell_type": "code",
      "source": [
        "s2 =\"Mumbai - pune -mumbai\"\n",
        "s2.split(\"-\")"
      ],
      "metadata": {
        "colab": {
          "base_uri": "https://localhost:8080/"
        },
        "id": "wkmqNhbzh8L_",
        "outputId": "d5709536-ac84-403f-c511-2ae9311635b9"
      },
      "execution_count": 247,
      "outputs": [
        {
          "output_type": "execute_result",
          "data": {
            "text/plain": [
              "['Mumbai ', ' pune ', 'mumbai']"
            ]
          },
          "metadata": {},
          "execution_count": 247
        }
      ]
    },
    {
      "cell_type": "code",
      "source": [
        "s2.replace(\"-\",\"---\")"
      ],
      "metadata": {
        "colab": {
          "base_uri": "https://localhost:8080/",
          "height": 36
        },
        "id": "xdUD7lxoh8JI",
        "outputId": "eeb5ea2f-88fb-441b-dd43-2fb1c30dabc4"
      },
      "execution_count": 248,
      "outputs": [
        {
          "output_type": "execute_result",
          "data": {
            "text/plain": [
              "'Mumbai --- pune ---mumbai'"
            ],
            "application/vnd.google.colaboratory.intrinsic+json": {
              "type": "string"
            }
          },
          "metadata": {},
          "execution_count": 248
        }
      ]
    },
    {
      "cell_type": "code",
      "source": [
        "city = \"satara\"\n",
        "city.count(\"a\")"
      ],
      "metadata": {
        "colab": {
          "base_uri": "https://localhost:8080/"
        },
        "id": "vhwQX6DUh8GG",
        "outputId": "ce4d24cd-9592-4b79-83c2-dffced0ff977"
      },
      "execution_count": 249,
      "outputs": [
        {
          "output_type": "execute_result",
          "data": {
            "text/plain": [
              "3"
            ]
          },
          "metadata": {},
          "execution_count": 249
        }
      ]
    },
    {
      "cell_type": "code",
      "source": [
        "\"-\"*40"
      ],
      "metadata": {
        "colab": {
          "base_uri": "https://localhost:8080/",
          "height": 36
        },
        "id": "buIUyTPUh8DQ",
        "outputId": "a61b6f47-5c6b-47d2-b3c6-ce370e041f01"
      },
      "execution_count": 250,
      "outputs": [
        {
          "output_type": "execute_result",
          "data": {
            "text/plain": [
              "'----------------------------------------'"
            ],
            "application/vnd.google.colaboratory.intrinsic+json": {
              "type": "string"
            }
          },
          "metadata": {},
          "execution_count": 250
        }
      ]
    },
    {
      "cell_type": "markdown",
      "source": [
        "# **22/06/2023**\n",
        "Conditional Statment"
      ],
      "metadata": {
        "id": "aHAZkUekZHoJ"
      }
    },
    {
      "cell_type": "code",
      "source": [
        "a= 3\n",
        "b=5\n",
        "\n",
        "if a>b:\n",
        "  print(a,\"is greater\")\n",
        "  print(\"In True Bolck\")\n",
        "  c=a+b\n",
        "  print(c)\n",
        "else:\n",
        "  print(b,\"is greater\")\n",
        "  print(\"In False Bolck\")\n",
        "  c=a*b\n",
        "  print(c)"
      ],
      "metadata": {
        "id": "fMq3mPlBh8Ak",
        "colab": {
          "base_uri": "https://localhost:8080/"
        },
        "outputId": "93ac3792-78c4-4169-fc4e-e186ecc3dd38"
      },
      "execution_count": 251,
      "outputs": [
        {
          "output_type": "stream",
          "name": "stdout",
          "text": [
            "5 is greater\n",
            "In False Bolck\n",
            "15\n"
          ]
        }
      ]
    },
    {
      "cell_type": "code",
      "source": [
        "salary = 15000\n",
        "if(salary > 20000):\n",
        "  tax=0.25\n",
        "  print(\"Hello from True\")\n",
        "else:\n",
        "  tax=0.20\n",
        "  print(\"Hello from False\")\n",
        "net_sal=salary-tax*salary\n",
        "print(net_sal)"
      ],
      "metadata": {
        "id": "G92Cd5J8h79l",
        "colab": {
          "base_uri": "https://localhost:8080/"
        },
        "outputId": "8d54c0c8-c994-4e8a-f79c-2dfc9cab916c"
      },
      "execution_count": 252,
      "outputs": [
        {
          "output_type": "stream",
          "name": "stdout",
          "text": [
            "Hello from False\n",
            "12000.0\n"
          ]
        }
      ]
    },
    {
      "cell_type": "code",
      "source": [
        "# For Loop\n",
        "\n",
        "for i in range(1,11):\n",
        "  print(i)\n",
        "print(\"Bye\")"
      ],
      "metadata": {
        "id": "lM9dx3dPh76k",
        "colab": {
          "base_uri": "https://localhost:8080/"
        },
        "outputId": "6fc442fb-39e3-4f47-e0e2-b3509fdc618c"
      },
      "execution_count": 253,
      "outputs": [
        {
          "output_type": "stream",
          "name": "stdout",
          "text": [
            "1\n",
            "2\n",
            "3\n",
            "4\n",
            "5\n",
            "6\n",
            "7\n",
            "8\n",
            "9\n",
            "10\n",
            "Bye\n"
          ]
        }
      ]
    },
    {
      "cell_type": "code",
      "source": [
        "# odd numbers\n",
        "for i in range(1,20,2):\n",
        "  print(i)"
      ],
      "metadata": {
        "id": "ebX4WK-ch73r",
        "colab": {
          "base_uri": "https://localhost:8080/"
        },
        "outputId": "ad754db3-09dc-46e4-a09a-360da2eb2db2"
      },
      "execution_count": 254,
      "outputs": [
        {
          "output_type": "stream",
          "name": "stdout",
          "text": [
            "1\n",
            "3\n",
            "5\n",
            "7\n",
            "9\n",
            "11\n",
            "13\n",
            "15\n",
            "17\n",
            "19\n"
          ]
        }
      ]
    },
    {
      "cell_type": "code",
      "source": [
        "# even numbers\n",
        "for i in range(2,20,2):\n",
        "  print(i)"
      ],
      "metadata": {
        "colab": {
          "base_uri": "https://localhost:8080/"
        },
        "id": "Ay_sJmwFjHEx",
        "outputId": "b6c6ce82-753d-414f-a127-df620e571fd2"
      },
      "execution_count": 255,
      "outputs": [
        {
          "output_type": "stream",
          "name": "stdout",
          "text": [
            "2\n",
            "4\n",
            "6\n",
            "8\n",
            "10\n",
            "12\n",
            "14\n",
            "16\n",
            "18\n"
          ]
        }
      ]
    },
    {
      "cell_type": "code",
      "source": [
        "# break statment\n",
        "for i in range(1,11):\n",
        "  if i==5:\n",
        "    print(\"same\")\n",
        "    break\n",
        "  else:\n",
        "    print(i)"
      ],
      "metadata": {
        "colab": {
          "base_uri": "https://localhost:8080/"
        },
        "id": "6uM5HztyjHIR",
        "outputId": "7471a101-66d1-4799-e056-035791982b92"
      },
      "execution_count": 256,
      "outputs": [
        {
          "output_type": "stream",
          "name": "stdout",
          "text": [
            "1\n",
            "2\n",
            "3\n",
            "4\n",
            "same\n"
          ]
        }
      ]
    },
    {
      "cell_type": "code",
      "source": [
        "for n in range(11):\n",
        "  print(n,\" \",n*n)"
      ],
      "metadata": {
        "colab": {
          "base_uri": "https://localhost:8080/"
        },
        "id": "QlIlnl67jHLn",
        "outputId": "81421a60-29d3-4caa-d7d7-a80503ed56eb"
      },
      "execution_count": 257,
      "outputs": [
        {
          "output_type": "stream",
          "name": "stdout",
          "text": [
            "0   0\n",
            "1   1\n",
            "2   4\n",
            "3   9\n",
            "4   16\n",
            "5   25\n",
            "6   36\n",
            "7   49\n",
            "8   64\n",
            "9   81\n",
            "10   100\n"
          ]
        }
      ]
    },
    {
      "cell_type": "code",
      "source": [
        "for i in range(1,30,5):\n",
        "  print(i)"
      ],
      "metadata": {
        "id": "hNP6Grm2g92A",
        "colab": {
          "base_uri": "https://localhost:8080/"
        },
        "outputId": "f170c882-33cf-4386-bab6-2fd639685f2b"
      },
      "execution_count": 258,
      "outputs": [
        {
          "output_type": "stream",
          "name": "stdout",
          "text": [
            "1\n",
            "6\n",
            "11\n",
            "16\n",
            "21\n",
            "26\n"
          ]
        }
      ]
    },
    {
      "cell_type": "code",
      "source": [
        "for i in range(1,30,5):\n",
        "  print(i,\"@\")"
      ],
      "metadata": {
        "id": "9x24cAv4g95X",
        "colab": {
          "base_uri": "https://localhost:8080/"
        },
        "outputId": "06a60a21-33a9-4269-8ae4-2f74026264c3"
      },
      "execution_count": 259,
      "outputs": [
        {
          "output_type": "stream",
          "name": "stdout",
          "text": [
            "1 @\n",
            "6 @\n",
            "11 @\n",
            "16 @\n",
            "21 @\n",
            "26 @\n"
          ]
        }
      ]
    },
    {
      "cell_type": "code",
      "source": [
        "subject =\"Math\"\n",
        "for letter in subject:\n",
        "  print(letter)"
      ],
      "metadata": {
        "id": "RJGbwWcof4v6",
        "colab": {
          "base_uri": "https://localhost:8080/"
        },
        "outputId": "9b79113a-1a9b-4686-adeb-65a6c25b200f"
      },
      "execution_count": 260,
      "outputs": [
        {
          "output_type": "stream",
          "name": "stdout",
          "text": [
            "M\n",
            "a\n",
            "t\n",
            "h\n"
          ]
        }
      ]
    },
    {
      "cell_type": "code",
      "source": [
        "# Q: print name 3 times on first line ,4 times ,5 times ,6 times ?\n",
        "name = \"Snehal\"\n",
        "for i in range(3,7):\n",
        "  x = (name + \" \")*i\n",
        "  print(x)"
      ],
      "metadata": {
        "colab": {
          "base_uri": "https://localhost:8080/"
        },
        "id": "KRBGmQ4Nq5Dw",
        "outputId": "c774bd06-09e3-452a-abf6-c31ce3158aa0"
      },
      "execution_count": 261,
      "outputs": [
        {
          "output_type": "stream",
          "name": "stdout",
          "text": [
            "Snehal Snehal Snehal \n",
            "Snehal Snehal Snehal Snehal \n",
            "Snehal Snehal Snehal Snehal Snehal \n",
            "Snehal Snehal Snehal Snehal Snehal Snehal \n"
          ]
        }
      ]
    },
    {
      "cell_type": "code",
      "source": [
        "movie = \"Drishyam\"\n",
        "for i in movie:\n",
        "  # print(i,end=\" \")\n",
        "  print(i.upper(),end = \"  **  \")"
      ],
      "metadata": {
        "colab": {
          "base_uri": "https://localhost:8080/"
        },
        "id": "6Duc8Mj_q5Gk",
        "outputId": "61a090a5-3aa0-4ad3-ea21-d734c6202aa7"
      },
      "execution_count": 262,
      "outputs": [
        {
          "output_type": "stream",
          "name": "stdout",
          "text": [
            "D  **  R  **  I  **  S  **  H  **  Y  **  A  **  M  **  "
          ]
        }
      ]
    },
    {
      "cell_type": "code",
      "source": [
        "for i in range(1,11):\n",
        "  if i % 2 == 0:\n",
        "    print('Even Number :',i)\n",
        "  else:\n",
        "    print('Odd Number :',i)\n"
      ],
      "metadata": {
        "colab": {
          "base_uri": "https://localhost:8080/"
        },
        "id": "Bk8UuSFYq5Ja",
        "outputId": "300182c2-d722-47df-e67e-2e0b8108aa9b"
      },
      "execution_count": 263,
      "outputs": [
        {
          "output_type": "stream",
          "name": "stdout",
          "text": [
            "Odd Number : 1\n",
            "Even Number : 2\n",
            "Odd Number : 3\n",
            "Even Number : 4\n",
            "Odd Number : 5\n",
            "Even Number : 6\n",
            "Odd Number : 7\n",
            "Even Number : 8\n",
            "Odd Number : 9\n",
            "Even Number : 10\n"
          ]
        }
      ]
    },
    {
      "cell_type": "markdown",
      "source": [
        "# ***23/6/2023***"
      ],
      "metadata": {
        "id": "ksgDj6mPkee6"
      }
    },
    {
      "cell_type": "code",
      "source": [
        "status1 = True\n",
        "status2 = False\n",
        "print(type(status1))\n",
        "type(status2)"
      ],
      "metadata": {
        "id": "-M1rKi3yq5Mf",
        "colab": {
          "base_uri": "https://localhost:8080/"
        },
        "outputId": "4fb5b73e-95af-4fcc-f3c8-0c5e9d75e310"
      },
      "execution_count": 264,
      "outputs": [
        {
          "output_type": "stream",
          "name": "stdout",
          "text": [
            "<class 'bool'>\n"
          ]
        },
        {
          "output_type": "execute_result",
          "data": {
            "text/plain": [
              "bool"
            ]
          },
          "metadata": {},
          "execution_count": 264
        }
      ]
    },
    {
      "cell_type": "code",
      "source": [
        "for i in \"Data\":\n",
        "  print(i*4)"
      ],
      "metadata": {
        "id": "u8M5aS6zq5PQ",
        "colab": {
          "base_uri": "https://localhost:8080/"
        },
        "outputId": "03c4c7e2-ee00-4dce-f5e9-3870eef3b883"
      },
      "execution_count": 265,
      "outputs": [
        {
          "output_type": "stream",
          "name": "stdout",
          "text": [
            "DDDD\n",
            "aaaa\n",
            "tttt\n",
            "aaaa\n"
          ]
        }
      ]
    },
    {
      "cell_type": "code",
      "source": [
        "len(\"Chetan \")"
      ],
      "metadata": {
        "id": "P1pAaTx2q5SX",
        "colab": {
          "base_uri": "https://localhost:8080/"
        },
        "outputId": "0bd3e6fc-120c-4645-f742-e0c2528d0dd2"
      },
      "execution_count": 266,
      "outputs": [
        {
          "output_type": "execute_result",
          "data": {
            "text/plain": [
              "7"
            ]
          },
          "metadata": {},
          "execution_count": 266
        }
      ]
    },
    {
      "cell_type": "markdown",
      "source": [
        "# ***Data Structures***\n"
      ],
      "metadata": {
        "id": "J5Tb99Dmti2q"
      }
    },
    {
      "cell_type": "markdown",
      "source": [
        "**1.List**\n",
        "\n",
        "`list are mutable`\n",
        "\n",
        "`created using squar brackets []`\n"
      ],
      "metadata": {
        "id": "Yb29LeFztrFP"
      }
    },
    {
      "cell_type": "code",
      "source": [
        "marks = [40,43,56,87,78,54,23]\n",
        "marks"
      ],
      "metadata": {
        "id": "Ood7tZL3q5V5",
        "colab": {
          "base_uri": "https://localhost:8080/"
        },
        "outputId": "1e2f6f17-eed7-41fd-9fbe-39accc7a27f0"
      },
      "execution_count": 267,
      "outputs": [
        {
          "output_type": "execute_result",
          "data": {
            "text/plain": [
              "[40, 43, 56, 87, 78, 54, 23]"
            ]
          },
          "metadata": {},
          "execution_count": 267
        }
      ]
    },
    {
      "cell_type": "code",
      "source": [
        "type(marks)"
      ],
      "metadata": {
        "colab": {
          "base_uri": "https://localhost:8080/"
        },
        "id": "Lq9Yzyf8uPrY",
        "outputId": "5edd4bb5-20b3-46a1-a9c1-1ce9a71e82b4"
      },
      "execution_count": 268,
      "outputs": [
        {
          "output_type": "execute_result",
          "data": {
            "text/plain": [
              "list"
            ]
          },
          "metadata": {},
          "execution_count": 268
        }
      ]
    },
    {
      "cell_type": "code",
      "source": [
        "dir(list)"
      ],
      "metadata": {
        "colab": {
          "base_uri": "https://localhost:8080/"
        },
        "id": "LN3SI2RquSAK",
        "outputId": "187fae03-1a79-446c-d27c-af0d3fcb13fd"
      },
      "execution_count": 269,
      "outputs": [
        {
          "output_type": "execute_result",
          "data": {
            "text/plain": [
              "['__add__',\n",
              " '__class__',\n",
              " '__class_getitem__',\n",
              " '__contains__',\n",
              " '__delattr__',\n",
              " '__delitem__',\n",
              " '__dir__',\n",
              " '__doc__',\n",
              " '__eq__',\n",
              " '__format__',\n",
              " '__ge__',\n",
              " '__getattribute__',\n",
              " '__getitem__',\n",
              " '__gt__',\n",
              " '__hash__',\n",
              " '__iadd__',\n",
              " '__imul__',\n",
              " '__init__',\n",
              " '__init_subclass__',\n",
              " '__iter__',\n",
              " '__le__',\n",
              " '__len__',\n",
              " '__lt__',\n",
              " '__mul__',\n",
              " '__ne__',\n",
              " '__new__',\n",
              " '__reduce__',\n",
              " '__reduce_ex__',\n",
              " '__repr__',\n",
              " '__reversed__',\n",
              " '__rmul__',\n",
              " '__setattr__',\n",
              " '__setitem__',\n",
              " '__sizeof__',\n",
              " '__str__',\n",
              " '__subclasshook__',\n",
              " 'append',\n",
              " 'clear',\n",
              " 'copy',\n",
              " 'count',\n",
              " 'extend',\n",
              " 'index',\n",
              " 'insert',\n",
              " 'pop',\n",
              " 'remove',\n",
              " 'reverse',\n",
              " 'sort']"
            ]
          },
          "metadata": {},
          "execution_count": 269
        }
      ]
    },
    {
      "cell_type": "code",
      "source": [
        "len(marks)"
      ],
      "metadata": {
        "colab": {
          "base_uri": "https://localhost:8080/"
        },
        "id": "bZx6X_RtuYcl",
        "outputId": "3f2d18e2-335a-4aba-e779-bc2c55601c44"
      },
      "execution_count": 270,
      "outputs": [
        {
          "output_type": "execute_result",
          "data": {
            "text/plain": [
              "7"
            ]
          },
          "metadata": {},
          "execution_count": 270
        }
      ]
    },
    {
      "cell_type": "code",
      "source": [
        "sorted(marks)"
      ],
      "metadata": {
        "colab": {
          "base_uri": "https://localhost:8080/"
        },
        "id": "hlIhr8d3uwUN",
        "outputId": "a427a9d3-7ec7-41c1-d637-74123a341f86"
      },
      "execution_count": 271,
      "outputs": [
        {
          "output_type": "execute_result",
          "data": {
            "text/plain": [
              "[23, 40, 43, 54, 56, 78, 87]"
            ]
          },
          "metadata": {},
          "execution_count": 271
        }
      ]
    },
    {
      "cell_type": "code",
      "source": [
        "marks"
      ],
      "metadata": {
        "colab": {
          "base_uri": "https://localhost:8080/"
        },
        "id": "SeR_woXIvKzX",
        "outputId": "fee32969-64ca-4fac-e776-93c800f3e5dd"
      },
      "execution_count": 272,
      "outputs": [
        {
          "output_type": "execute_result",
          "data": {
            "text/plain": [
              "[40, 43, 56, 87, 78, 54, 23]"
            ]
          },
          "metadata": {},
          "execution_count": 272
        }
      ]
    },
    {
      "cell_type": "code",
      "source": [
        "marks.sort()\n",
        "marks"
      ],
      "metadata": {
        "colab": {
          "base_uri": "https://localhost:8080/"
        },
        "id": "7tB0MDtVvMli",
        "outputId": "860aaed2-5df0-4037-8db2-6aa30d839a58"
      },
      "execution_count": 273,
      "outputs": [
        {
          "output_type": "execute_result",
          "data": {
            "text/plain": [
              "[23, 40, 43, 54, 56, 78, 87]"
            ]
          },
          "metadata": {},
          "execution_count": 273
        }
      ]
    },
    {
      "cell_type": "code",
      "source": [
        "marks.append(40)\n",
        "marks"
      ],
      "metadata": {
        "colab": {
          "base_uri": "https://localhost:8080/"
        },
        "id": "yUSb53B4vMox",
        "outputId": "f0cf3978-201f-44c3-89b7-98cd7c33ef8c"
      },
      "execution_count": 274,
      "outputs": [
        {
          "output_type": "execute_result",
          "data": {
            "text/plain": [
              "[23, 40, 43, 54, 56, 78, 87, 40]"
            ]
          },
          "metadata": {},
          "execution_count": 274
        }
      ]
    },
    {
      "cell_type": "code",
      "source": [
        "marks.remove(40)\n",
        "marks"
      ],
      "metadata": {
        "colab": {
          "base_uri": "https://localhost:8080/"
        },
        "id": "GfNfkHgKvMsT",
        "outputId": "86722ca1-01ca-4ebe-fd43-2b8cdc37179e"
      },
      "execution_count": 275,
      "outputs": [
        {
          "output_type": "execute_result",
          "data": {
            "text/plain": [
              "[23, 43, 54, 56, 78, 87, 40]"
            ]
          },
          "metadata": {},
          "execution_count": 275
        }
      ]
    },
    {
      "cell_type": "code",
      "source": [
        "max(marks)"
      ],
      "metadata": {
        "id": "Gy7il3LbwLNG",
        "colab": {
          "base_uri": "https://localhost:8080/"
        },
        "outputId": "5de78b63-a9a1-43ed-ac5a-9d2a1c474773"
      },
      "execution_count": 276,
      "outputs": [
        {
          "output_type": "execute_result",
          "data": {
            "text/plain": [
              "87"
            ]
          },
          "metadata": {},
          "execution_count": 276
        }
      ]
    },
    {
      "cell_type": "code",
      "source": [
        "min(marks)"
      ],
      "metadata": {
        "colab": {
          "base_uri": "https://localhost:8080/"
        },
        "id": "wxuaoI6vYh_t",
        "outputId": "34782b3a-335b-4546-c07d-2a53fb7f5342"
      },
      "execution_count": 277,
      "outputs": [
        {
          "output_type": "execute_result",
          "data": {
            "text/plain": [
              "23"
            ]
          },
          "metadata": {},
          "execution_count": 277
        }
      ]
    },
    {
      "cell_type": "code",
      "source": [
        "marks.reverse()\n",
        "marks"
      ],
      "metadata": {
        "colab": {
          "base_uri": "https://localhost:8080/"
        },
        "id": "zbAlgQ1oYkJ0",
        "outputId": "61232b9b-261b-4f62-841b-9541ff57c091"
      },
      "execution_count": 278,
      "outputs": [
        {
          "output_type": "execute_result",
          "data": {
            "text/plain": [
              "[40, 87, 78, 56, 54, 43, 23]"
            ]
          },
          "metadata": {},
          "execution_count": 278
        }
      ]
    },
    {
      "cell_type": "code",
      "source": [
        "marks2=[23,65,78,65,54,35]\n",
        "marks2"
      ],
      "metadata": {
        "colab": {
          "base_uri": "https://localhost:8080/"
        },
        "id": "eVNTs_OzZO8c",
        "outputId": "f5460af6-e57b-4756-ce24-f8ad83029c34"
      },
      "execution_count": 279,
      "outputs": [
        {
          "output_type": "execute_result",
          "data": {
            "text/plain": [
              "[23, 65, 78, 65, 54, 35]"
            ]
          },
          "metadata": {},
          "execution_count": 279
        }
      ]
    },
    {
      "cell_type": "code",
      "source": [
        "marks2.sort(reverse=True)\n",
        "marks2"
      ],
      "metadata": {
        "colab": {
          "base_uri": "https://localhost:8080/"
        },
        "id": "i6dZrzPHZO_8",
        "outputId": "2d62c137-6622-42ee-b003-b07a56599481"
      },
      "execution_count": 280,
      "outputs": [
        {
          "output_type": "execute_result",
          "data": {
            "text/plain": [
              "[78, 65, 65, 54, 35, 23]"
            ]
          },
          "metadata": {},
          "execution_count": 280
        }
      ]
    },
    {
      "cell_type": "code",
      "source": [
        "m3 = [ 54,77,67,54,34]\n",
        "m3.sort(reverse =False) #default\n",
        "m3"
      ],
      "metadata": {
        "colab": {
          "base_uri": "https://localhost:8080/"
        },
        "id": "9kkeCZG1Zx6C",
        "outputId": "246ff1e1-c983-42f4-ce18-fca96c885374"
      },
      "execution_count": 281,
      "outputs": [
        {
          "output_type": "execute_result",
          "data": {
            "text/plain": [
              "[34, 54, 54, 67, 77]"
            ]
          },
          "metadata": {},
          "execution_count": 281
        }
      ]
    },
    {
      "cell_type": "code",
      "source": [
        "67 in m3"
      ],
      "metadata": {
        "colab": {
          "base_uri": "https://localhost:8080/"
        },
        "id": "0afSsj5pZx9H",
        "outputId": "6060da69-6ec8-4afe-9274-d75fae121572"
      },
      "execution_count": 282,
      "outputs": [
        {
          "output_type": "execute_result",
          "data": {
            "text/plain": [
              "True"
            ]
          },
          "metadata": {},
          "execution_count": 282
        }
      ]
    },
    {
      "cell_type": "code",
      "source": [
        "l1 = [ 12,34,43]\n",
        "l2 = [2,43,4]\n",
        "l1 + l2"
      ],
      "metadata": {
        "colab": {
          "base_uri": "https://localhost:8080/"
        },
        "id": "P-ZVAUw2Zx_8",
        "outputId": "6950a4e8-9915-4cc8-a0c3-9bfd6c693dd2"
      },
      "execution_count": 283,
      "outputs": [
        {
          "output_type": "execute_result",
          "data": {
            "text/plain": [
              "[12, 34, 43, 2, 43, 4]"
            ]
          },
          "metadata": {},
          "execution_count": 283
        }
      ]
    },
    {
      "cell_type": "code",
      "source": [
        "(l1+l2)*2"
      ],
      "metadata": {
        "colab": {
          "base_uri": "https://localhost:8080/"
        },
        "id": "q2-nsfXCisdx",
        "outputId": "2231d4e2-5072-486a-8bdb-29527a948465"
      },
      "execution_count": 284,
      "outputs": [
        {
          "output_type": "execute_result",
          "data": {
            "text/plain": [
              "[12, 34, 43, 2, 43, 4, 12, 34, 43, 2, 43, 4]"
            ]
          },
          "metadata": {},
          "execution_count": 284
        }
      ]
    },
    {
      "cell_type": "markdown",
      "source": [
        "# **Data Structure**"
      ],
      "metadata": {
        "id": "pkXfIJ8O_RPq"
      }
    },
    {
      "cell_type": "markdown",
      "source": [
        "List of strings"
      ],
      "metadata": {
        "id": "FSied6Ast3fa"
      }
    },
    {
      "cell_type": "code",
      "source": [
        "l = [\"Mango\",'Apple','Banana','Pineapple','Custard Apple','Stawberry']\n",
        "l"
      ],
      "metadata": {
        "colab": {
          "base_uri": "https://localhost:8080/"
        },
        "id": "8KkpxTG9isgW",
        "outputId": "a5be20fc-1a83-43c9-d4ed-4a1e6f2b9695"
      },
      "execution_count": 285,
      "outputs": [
        {
          "output_type": "execute_result",
          "data": {
            "text/plain": [
              "['Mango', 'Apple', 'Banana', 'Pineapple', 'Custard Apple', 'Stawberry']"
            ]
          },
          "metadata": {},
          "execution_count": 285
        }
      ]
    },
    {
      "cell_type": "code",
      "source": [
        "for f in l:\n",
        "  # print(f.upper())\n",
        "  print(f.upper(),end = \" \")\n",
        "  # print(f.replace('u','a'),end = ' ')"
      ],
      "metadata": {
        "colab": {
          "base_uri": "https://localhost:8080/"
        },
        "id": "b7ghkyfsisj0",
        "outputId": "d59e7ebc-75cf-4914-e237-7caa3a57f85a"
      },
      "execution_count": 286,
      "outputs": [
        {
          "output_type": "stream",
          "name": "stdout",
          "text": [
            "MANGO APPLE BANANA PINEAPPLE CUSTARD APPLE STAWBERRY "
          ]
        }
      ]
    },
    {
      "cell_type": "code",
      "source": [
        "l[0]"
      ],
      "metadata": {
        "id": "SLpD8eNLZyDX",
        "colab": {
          "base_uri": "https://localhost:8080/",
          "height": 36
        },
        "outputId": "ca7abe32-4884-4c73-9394-d99f54f9a1f5"
      },
      "execution_count": 287,
      "outputs": [
        {
          "output_type": "execute_result",
          "data": {
            "text/plain": [
              "'Mango'"
            ],
            "application/vnd.google.colaboratory.intrinsic+json": {
              "type": "string"
            }
          },
          "metadata": {},
          "execution_count": 287
        }
      ]
    },
    {
      "cell_type": "code",
      "source": [
        "l[5]"
      ],
      "metadata": {
        "colab": {
          "base_uri": "https://localhost:8080/",
          "height": 36
        },
        "id": "SgBRWeGYio99",
        "outputId": "394e5f18-2400-4fa9-c2fc-5d9afcc177e1"
      },
      "execution_count": 288,
      "outputs": [
        {
          "output_type": "execute_result",
          "data": {
            "text/plain": [
              "'Stawberry'"
            ],
            "application/vnd.google.colaboratory.intrinsic+json": {
              "type": "string"
            }
          },
          "metadata": {},
          "execution_count": 288
        }
      ]
    },
    {
      "cell_type": "code",
      "source": [
        "l[:4]"
      ],
      "metadata": {
        "colab": {
          "base_uri": "https://localhost:8080/"
        },
        "id": "AgkFD_0LipA1",
        "outputId": "fa2b16fd-780a-414b-a85e-8ee5b672097e"
      },
      "execution_count": 289,
      "outputs": [
        {
          "output_type": "execute_result",
          "data": {
            "text/plain": [
              "['Mango', 'Apple', 'Banana', 'Pineapple']"
            ]
          },
          "metadata": {},
          "execution_count": 289
        }
      ]
    },
    {
      "cell_type": "code",
      "source": [
        "l[1:]"
      ],
      "metadata": {
        "colab": {
          "base_uri": "https://localhost:8080/"
        },
        "id": "biLPKqwxjTfS",
        "outputId": "d7e556c7-193c-46f3-f3d8-dfc206ce7aba"
      },
      "execution_count": 290,
      "outputs": [
        {
          "output_type": "execute_result",
          "data": {
            "text/plain": [
              "['Apple', 'Banana', 'Pineapple', 'Custard Apple', 'Stawberry']"
            ]
          },
          "metadata": {},
          "execution_count": 290
        }
      ]
    },
    {
      "cell_type": "code",
      "source": [
        "l[-1]"
      ],
      "metadata": {
        "colab": {
          "base_uri": "https://localhost:8080/",
          "height": 36
        },
        "id": "aQbT0VZojTiC",
        "outputId": "9ceefccf-e82e-4e78-b03b-ed22517adfa7"
      },
      "execution_count": 291,
      "outputs": [
        {
          "output_type": "execute_result",
          "data": {
            "text/plain": [
              "'Stawberry'"
            ],
            "application/vnd.google.colaboratory.intrinsic+json": {
              "type": "string"
            }
          },
          "metadata": {},
          "execution_count": 291
        }
      ]
    },
    {
      "cell_type": "code",
      "source": [
        "l[-6]"
      ],
      "metadata": {
        "colab": {
          "base_uri": "https://localhost:8080/",
          "height": 36
        },
        "id": "ptUrbNRhjTkr",
        "outputId": "f5a82848-2cc8-4903-ce20-5b0b18d3c146"
      },
      "execution_count": 292,
      "outputs": [
        {
          "output_type": "execute_result",
          "data": {
            "text/plain": [
              "'Mango'"
            ],
            "application/vnd.google.colaboratory.intrinsic+json": {
              "type": "string"
            }
          },
          "metadata": {},
          "execution_count": 292
        }
      ]
    },
    {
      "cell_type": "code",
      "source": [
        "print(l)\n",
        "l[::2]"
      ],
      "metadata": {
        "colab": {
          "base_uri": "https://localhost:8080/"
        },
        "id": "HxpEml8SjTno",
        "outputId": "3420c95b-a292-40b6-8fa1-4d3a63cc5b8c"
      },
      "execution_count": 293,
      "outputs": [
        {
          "output_type": "stream",
          "name": "stdout",
          "text": [
            "['Mango', 'Apple', 'Banana', 'Pineapple', 'Custard Apple', 'Stawberry']\n"
          ]
        },
        {
          "output_type": "execute_result",
          "data": {
            "text/plain": [
              "['Mango', 'Banana', 'Custard Apple']"
            ]
          },
          "metadata": {},
          "execution_count": 293
        }
      ]
    },
    {
      "cell_type": "code",
      "source": [
        "l1=list(range(1,21))\n",
        "l1"
      ],
      "metadata": {
        "colab": {
          "base_uri": "https://localhost:8080/"
        },
        "id": "IKb--29gjTqJ",
        "outputId": "742ba866-a651-4828-ca9e-5301afa7e767"
      },
      "execution_count": 294,
      "outputs": [
        {
          "output_type": "execute_result",
          "data": {
            "text/plain": [
              "[1, 2, 3, 4, 5, 6, 7, 8, 9, 10, 11, 12, 13, 14, 15, 16, 17, 18, 19, 20]"
            ]
          },
          "metadata": {},
          "execution_count": 294
        }
      ]
    },
    {
      "cell_type": "markdown",
      "source": [
        "# **26/6/2023**"
      ],
      "metadata": {
        "id": "H-NxNxFO_Wlq"
      }
    },
    {
      "cell_type": "code",
      "source": [
        "l1[::4]"
      ],
      "metadata": {
        "id": "ZT_XJZc5jTtn",
        "colab": {
          "base_uri": "https://localhost:8080/"
        },
        "outputId": "2f42e3f7-5be9-4094-cf5c-ff005b4ca29b"
      },
      "execution_count": 295,
      "outputs": [
        {
          "output_type": "execute_result",
          "data": {
            "text/plain": [
              "[1, 5, 9, 13, 17]"
            ]
          },
          "metadata": {},
          "execution_count": 295
        }
      ]
    },
    {
      "cell_type": "code",
      "source": [
        "l1[2:20:5]"
      ],
      "metadata": {
        "colab": {
          "base_uri": "https://localhost:8080/"
        },
        "id": "u8Ar67AX_0wK",
        "outputId": "c1b97d30-eb85-4021-b4da-32288c753e0f"
      },
      "execution_count": 296,
      "outputs": [
        {
          "output_type": "execute_result",
          "data": {
            "text/plain": [
              "[3, 8, 13, 18]"
            ]
          },
          "metadata": {},
          "execution_count": 296
        }
      ]
    },
    {
      "cell_type": "code",
      "source": [
        "print(l)"
      ],
      "metadata": {
        "colab": {
          "base_uri": "https://localhost:8080/"
        },
        "id": "o4sAuPiY_0zI",
        "outputId": "60f9fc36-da18-4412-cd02-95b3c10cb9d9"
      },
      "execution_count": 297,
      "outputs": [
        {
          "output_type": "stream",
          "name": "stdout",
          "text": [
            "['Mango', 'Apple', 'Banana', 'Pineapple', 'Custard Apple', 'Stawberry']\n"
          ]
        }
      ]
    },
    {
      "cell_type": "code",
      "source": [
        "l[::-1]"
      ],
      "metadata": {
        "colab": {
          "base_uri": "https://localhost:8080/"
        },
        "id": "y_p9RM_m_02D",
        "outputId": "da22088d-8fc9-4c7d-d0cb-92abb071cae7"
      },
      "execution_count": 298,
      "outputs": [
        {
          "output_type": "execute_result",
          "data": {
            "text/plain": [
              "['Stawberry', 'Custard Apple', 'Pineapple', 'Banana', 'Apple', 'Mango']"
            ]
          },
          "metadata": {},
          "execution_count": 298
        }
      ]
    },
    {
      "cell_type": "code",
      "source": [],
      "metadata": {
        "id": "OBBtUcUL_044"
      },
      "execution_count": 298,
      "outputs": []
    },
    {
      "cell_type": "markdown",
      "source": [
        "Use of 'in' keyword"
      ],
      "metadata": {
        "id": "jPtR4cbvDOwB"
      }
    },
    {
      "cell_type": "code",
      "source": [
        "'the' in 'Netherland'"
      ],
      "metadata": {
        "colab": {
          "base_uri": "https://localhost:8080/"
        },
        "id": "quzVRTgd_07m",
        "outputId": "3d6f3a21-4bf7-41d8-8e14-73011629e53c"
      },
      "execution_count": 299,
      "outputs": [
        {
          "output_type": "execute_result",
          "data": {
            "text/plain": [
              "True"
            ]
          },
          "metadata": {},
          "execution_count": 299
        }
      ]
    },
    {
      "cell_type": "code",
      "source": [
        "l"
      ],
      "metadata": {
        "colab": {
          "base_uri": "https://localhost:8080/"
        },
        "id": "MU2pX2V9_0-i",
        "outputId": "e9e94fb0-8a91-42f5-f1ed-f577747541d5"
      },
      "execution_count": 300,
      "outputs": [
        {
          "output_type": "execute_result",
          "data": {
            "text/plain": [
              "['Mango', 'Apple', 'Banana', 'Pineapple', 'Custard Apple', 'Stawberry']"
            ]
          },
          "metadata": {},
          "execution_count": 300
        }
      ]
    },
    {
      "cell_type": "code",
      "source": [
        "l.append(\"Mulberry\")"
      ],
      "metadata": {
        "id": "t5cYLARn_1BR"
      },
      "execution_count": 301,
      "outputs": []
    },
    {
      "cell_type": "code",
      "source": [
        "l"
      ],
      "metadata": {
        "colab": {
          "base_uri": "https://localhost:8080/"
        },
        "id": "TzYnTNOyFq_e",
        "outputId": "aeca3510-411b-4b2b-dfeb-fc46d5735cd7"
      },
      "execution_count": 302,
      "outputs": [
        {
          "output_type": "execute_result",
          "data": {
            "text/plain": [
              "['Mango',\n",
              " 'Apple',\n",
              " 'Banana',\n",
              " 'Pineapple',\n",
              " 'Custard Apple',\n",
              " 'Stawberry',\n",
              " 'Mulberry']"
            ]
          },
          "metadata": {},
          "execution_count": 302
        }
      ]
    },
    {
      "cell_type": "code",
      "source": [
        "l.remove('Mulberry')"
      ],
      "metadata": {
        "id": "jeFp2Eyf_1HI"
      },
      "execution_count": 303,
      "outputs": []
    },
    {
      "cell_type": "code",
      "source": [
        "l"
      ],
      "metadata": {
        "colab": {
          "base_uri": "https://localhost:8080/"
        },
        "id": "dGz_UaFQ_1KG",
        "outputId": "21442c98-e31d-4a31-d18d-514d66ef7cf9"
      },
      "execution_count": 304,
      "outputs": [
        {
          "output_type": "execute_result",
          "data": {
            "text/plain": [
              "['Mango', 'Apple', 'Banana', 'Pineapple', 'Custard Apple', 'Stawberry']"
            ]
          },
          "metadata": {},
          "execution_count": 304
        }
      ]
    },
    {
      "cell_type": "code",
      "source": [
        "for f in l:\n",
        "  if 'berry' in f:\n",
        "    print(f)"
      ],
      "metadata": {
        "colab": {
          "base_uri": "https://localhost:8080/"
        },
        "id": "9QB8CfphFj8b",
        "outputId": "4da6c060-4e67-4104-9d97-edebf4c69dad"
      },
      "execution_count": 305,
      "outputs": [
        {
          "output_type": "stream",
          "name": "stdout",
          "text": [
            "Stawberry\n"
          ]
        }
      ]
    },
    {
      "cell_type": "code",
      "source": [
        "for f in l:\n",
        "  if 'pple' in f:\n",
        "    print(f,end=',')"
      ],
      "metadata": {
        "colab": {
          "base_uri": "https://localhost:8080/"
        },
        "id": "GkzRx1wB_1Nf",
        "outputId": "93ee7dc0-c2d2-441a-dd7e-048b6f52a17e"
      },
      "execution_count": 306,
      "outputs": [
        {
          "output_type": "stream",
          "name": "stdout",
          "text": [
            "Apple,Pineapple,Custard Apple,"
          ]
        }
      ]
    },
    {
      "cell_type": "code",
      "source": [
        "l4=[]\n",
        "l5=[]\n",
        "for f in l:\n",
        "  if 'pple' in f:\n",
        "    l4.append(f)\n",
        "  else:\n",
        "    l5.append(f)"
      ],
      "metadata": {
        "id": "Ogg7CGfxIhRN"
      },
      "execution_count": 307,
      "outputs": []
    },
    {
      "cell_type": "code",
      "source": [
        "l4"
      ],
      "metadata": {
        "id": "3t65O4IWipEQ",
        "colab": {
          "base_uri": "https://localhost:8080/"
        },
        "outputId": "7e3de0b1-b814-418b-bf9f-ab05fc4450da"
      },
      "execution_count": 308,
      "outputs": [
        {
          "output_type": "execute_result",
          "data": {
            "text/plain": [
              "['Apple', 'Pineapple', 'Custard Apple']"
            ]
          },
          "metadata": {},
          "execution_count": 308
        }
      ]
    },
    {
      "cell_type": "code",
      "source": [
        "l5"
      ],
      "metadata": {
        "colab": {
          "base_uri": "https://localhost:8080/"
        },
        "id": "IaCpwClyJHno",
        "outputId": "576628b1-5681-40b1-8af7-24d302d8a411"
      },
      "execution_count": 309,
      "outputs": [
        {
          "output_type": "execute_result",
          "data": {
            "text/plain": [
              "['Mango', 'Banana', 'Stawberry']"
            ]
          },
          "metadata": {},
          "execution_count": 309
        }
      ]
    },
    {
      "cell_type": "code",
      "source": [
        "l2=[]\n",
        "l1=[1,2,3,4,5,6]\n",
        "for i in l1:\n",
        "  l2.append(i**2)\n",
        "print(l1,end = \" \\n\")\n",
        "print(\"Square root :\",l2,end = \" \")"
      ],
      "metadata": {
        "colab": {
          "base_uri": "https://localhost:8080/"
        },
        "id": "SpvFPCfBJSCh",
        "outputId": "0548ada8-b403-4a4e-cfde-a642cc792660"
      },
      "execution_count": 310,
      "outputs": [
        {
          "output_type": "stream",
          "name": "stdout",
          "text": [
            "[1, 2, 3, 4, 5, 6] \n",
            "Square root : [1, 4, 9, 16, 25, 36] "
          ]
        }
      ]
    },
    {
      "cell_type": "markdown",
      "source": [
        "## List comprehnsion - makes your code compact"
      ],
      "metadata": {
        "id": "JD6cMWrvL-wT"
      }
    },
    {
      "cell_type": "code",
      "source": [
        "l3=[i**2 for i in l1]\n",
        "l3"
      ],
      "metadata": {
        "colab": {
          "base_uri": "https://localhost:8080/"
        },
        "id": "4zxSDBZyJSF6",
        "outputId": "30b72d8c-2712-496a-abdf-ad5476bd68fe"
      },
      "execution_count": 311,
      "outputs": [
        {
          "output_type": "execute_result",
          "data": {
            "text/plain": [
              "[1, 4, 9, 16, 25, 36]"
            ]
          },
          "metadata": {},
          "execution_count": 311
        }
      ]
    },
    {
      "cell_type": "code",
      "source": [
        "l5=[f for f in l if \"berry\" in f]\n",
        "l5"
      ],
      "metadata": {
        "colab": {
          "base_uri": "https://localhost:8080/"
        },
        "id": "mVLFKYJBMfat",
        "outputId": "98781bdb-135e-4bd4-bee0-2fac1e0d9fbc"
      },
      "execution_count": 312,
      "outputs": [
        {
          "output_type": "execute_result",
          "data": {
            "text/plain": [
              "['Stawberry']"
            ]
          },
          "metadata": {},
          "execution_count": 312
        }
      ]
    },
    {
      "cell_type": "code",
      "source": [
        "l5=[f for f in l if \"berry\" not in f]\n",
        "l5"
      ],
      "metadata": {
        "colab": {
          "base_uri": "https://localhost:8080/"
        },
        "id": "pnZEsymxM8a4",
        "outputId": "7ca619a9-bc99-4e49-fa5a-ffcf96c51e03"
      },
      "execution_count": 313,
      "outputs": [
        {
          "output_type": "execute_result",
          "data": {
            "text/plain": [
              "['Mango', 'Apple', 'Banana', 'Pineapple', 'Custard Apple']"
            ]
          },
          "metadata": {},
          "execution_count": 313
        }
      ]
    },
    {
      "cell_type": "code",
      "source": [
        "l.index(\"Mango\")"
      ],
      "metadata": {
        "colab": {
          "base_uri": "https://localhost:8080/"
        },
        "id": "rwPReBtQM8d6",
        "outputId": "9f640886-b349-499f-ea12-3cc47230ec71"
      },
      "execution_count": 314,
      "outputs": [
        {
          "output_type": "execute_result",
          "data": {
            "text/plain": [
              "0"
            ]
          },
          "metadata": {},
          "execution_count": 314
        }
      ]
    },
    {
      "cell_type": "markdown",
      "source": [
        "# **DS:2 :Tuples**\n",
        "# Tuples are not mutable\n",
        "# created using round brackets()"
      ],
      "metadata": {
        "id": "sUOiB5lVSBLU"
      }
    },
    {
      "cell_type": "code",
      "source": [
        "t1=(1,2,3,4,5)\n",
        "t1"
      ],
      "metadata": {
        "colab": {
          "base_uri": "https://localhost:8080/"
        },
        "id": "ISbjaiNdQ6zF",
        "outputId": "ed17e49e-0833-48e5-9869-cf7cddff96a3"
      },
      "execution_count": 315,
      "outputs": [
        {
          "output_type": "execute_result",
          "data": {
            "text/plain": [
              "(1, 2, 3, 4, 5)"
            ]
          },
          "metadata": {},
          "execution_count": 315
        }
      ]
    },
    {
      "cell_type": "code",
      "source": [
        "type(t1)"
      ],
      "metadata": {
        "colab": {
          "base_uri": "https://localhost:8080/"
        },
        "id": "hDsAnwxmM8g8",
        "outputId": "921c88cc-280a-4d33-9026-cd02e1d79496"
      },
      "execution_count": 316,
      "outputs": [
        {
          "output_type": "execute_result",
          "data": {
            "text/plain": [
              "tuple"
            ]
          },
          "metadata": {},
          "execution_count": 316
        }
      ]
    },
    {
      "cell_type": "code",
      "source": [
        "# t1[0]=6 #error-->'tuple' object does not support item assignment"
      ],
      "metadata": {
        "id": "hgSQTv-8M8ko"
      },
      "execution_count": 317,
      "outputs": []
    },
    {
      "cell_type": "code",
      "source": [
        "t3=t1+(2,3,4,5,6)\n",
        "t3"
      ],
      "metadata": {
        "colab": {
          "base_uri": "https://localhost:8080/"
        },
        "id": "rnizBZrSS0z_",
        "outputId": "0049d2b4-3c9e-4926-9bfd-25f5db21c187"
      },
      "execution_count": 318,
      "outputs": [
        {
          "output_type": "execute_result",
          "data": {
            "text/plain": [
              "(1, 2, 3, 4, 5, 2, 3, 4, 5, 6)"
            ]
          },
          "metadata": {},
          "execution_count": 318
        }
      ]
    },
    {
      "cell_type": "code",
      "source": [
        "t3.count(4)"
      ],
      "metadata": {
        "colab": {
          "base_uri": "https://localhost:8080/"
        },
        "id": "G8MVvzWfTetS",
        "outputId": "fabc407e-cecd-41b8-8c43-3140232aec2e"
      },
      "execution_count": 320,
      "outputs": [
        {
          "output_type": "execute_result",
          "data": {
            "text/plain": [
              "2"
            ]
          },
          "metadata": {},
          "execution_count": 320
        }
      ]
    },
    {
      "cell_type": "code",
      "source": [
        "t3.index(4)"
      ],
      "metadata": {
        "colab": {
          "base_uri": "https://localhost:8080/"
        },
        "id": "XWdbZNcyTtvA",
        "outputId": "69c9351e-5208-4ea7-b7ea-4c72e0cc0282"
      },
      "execution_count": 321,
      "outputs": [
        {
          "output_type": "execute_result",
          "data": {
            "text/plain": [
              "3"
            ]
          },
          "metadata": {},
          "execution_count": 321
        }
      ]
    },
    {
      "cell_type": "code",
      "source": [
        "t1[1:5]"
      ],
      "metadata": {
        "colab": {
          "base_uri": "https://localhost:8080/"
        },
        "id": "LCXR_4EdTmbp",
        "outputId": "b624bab4-40fe-430f-ae19-4a9ce70f1b4e"
      },
      "execution_count": 322,
      "outputs": [
        {
          "output_type": "execute_result",
          "data": {
            "text/plain": [
              "(2, 3, 4, 5)"
            ]
          },
          "metadata": {},
          "execution_count": 322
        }
      ]
    },
    {
      "cell_type": "markdown",
      "source": [
        "# **DS:3:Dictionary**\n",
        "\n"
      ],
      "metadata": {
        "id": "FiPS7BMuWLWw"
      }
    },
    {
      "cell_type": "code",
      "source": [
        "cap_dict={\n",
        "    'Nepal':'Kathmandu',\n",
        "    'Italy':'Rome',\n",
        "    'England':'London'\n",
        "}\n",
        "cap_dict"
      ],
      "metadata": {
        "colab": {
          "base_uri": "https://localhost:8080/"
        },
        "id": "DYEDUio9T15n",
        "outputId": "1573a681-31f2-4afb-f098-a49cc3c393ad"
      },
      "execution_count": 326,
      "outputs": [
        {
          "output_type": "execute_result",
          "data": {
            "text/plain": [
              "{'Nepal': 'Kathmandu', 'Italy': 'Rome', 'England': 'London'}"
            ]
          },
          "metadata": {},
          "execution_count": 326
        }
      ]
    },
    {
      "cell_type": "code",
      "source": [
        "type(cap_dict)"
      ],
      "metadata": {
        "colab": {
          "base_uri": "https://localhost:8080/"
        },
        "id": "aBzSCg_-Wj87",
        "outputId": "9c3442c6-5287-4af3-9c2d-466170447f78"
      },
      "execution_count": 327,
      "outputs": [
        {
          "output_type": "execute_result",
          "data": {
            "text/plain": [
              "dict"
            ]
          },
          "metadata": {},
          "execution_count": 327
        }
      ]
    },
    {
      "cell_type": "code",
      "source": [],
      "metadata": {
        "id": "nWeGF6yrWk3J"
      },
      "execution_count": null,
      "outputs": []
    },
    {
      "cell_type": "code",
      "source": [],
      "metadata": {
        "id": "YaSGpP5hWlZi"
      },
      "execution_count": null,
      "outputs": []
    },
    {
      "cell_type": "code",
      "source": [],
      "metadata": {
        "id": "dhXNJ1JlWle5"
      },
      "execution_count": null,
      "outputs": []
    },
    {
      "cell_type": "code",
      "source": [],
      "metadata": {
        "id": "PblTwOylWlji"
      },
      "execution_count": null,
      "outputs": []
    },
    {
      "cell_type": "code",
      "source": [],
      "metadata": {
        "id": "2vIRo53uWlnv"
      },
      "execution_count": null,
      "outputs": []
    },
    {
      "cell_type": "code",
      "source": [],
      "metadata": {
        "id": "R2ZdSL2QWlqZ"
      },
      "execution_count": null,
      "outputs": []
    },
    {
      "cell_type": "code",
      "source": [],
      "metadata": {
        "id": "SK3GLPxKWltK"
      },
      "execution_count": null,
      "outputs": []
    },
    {
      "cell_type": "code",
      "source": [],
      "metadata": {
        "id": "_37yHiosWlvU"
      },
      "execution_count": null,
      "outputs": []
    },
    {
      "cell_type": "code",
      "source": [],
      "metadata": {
        "id": "U0KH2KJgWlyU"
      },
      "execution_count": null,
      "outputs": []
    },
    {
      "cell_type": "code",
      "source": [],
      "metadata": {
        "id": "sxnJJyO_Wl0S"
      },
      "execution_count": null,
      "outputs": []
    },
    {
      "cell_type": "code",
      "source": [],
      "metadata": {
        "id": "dqGBlAcnWl3C"
      },
      "execution_count": null,
      "outputs": []
    },
    {
      "cell_type": "code",
      "source": [],
      "metadata": {
        "id": "bAFtgsRSWl56"
      },
      "execution_count": null,
      "outputs": []
    },
    {
      "cell_type": "code",
      "source": [],
      "metadata": {
        "id": "uwfIqARmWl9D"
      },
      "execution_count": null,
      "outputs": []
    }
  ]
}