{
  "nbformat": 4,
  "nbformat_minor": 0,
  "metadata": {
    "colab": {
      "provenance": [],
      "authorship_tag": "ABX9TyNWRhIyLwYK8qXFSEDM9UzS",
      "include_colab_link": true
    },
    "kernelspec": {
      "name": "python3",
      "display_name": "Python 3"
    },
    "language_info": {
      "name": "python"
    }
  },
  "cells": [
    {
      "cell_type": "markdown",
      "metadata": {
        "id": "view-in-github",
        "colab_type": "text"
      },
      "source": [
        "<a href=\"https://colab.research.google.com/github/CM-007/pythonCode_DS/blob/main/PythonBasics.ipynb\" target=\"_parent\"><img src=\"https://colab.research.google.com/assets/colab-badge.svg\" alt=\"Open In Colab\"/></a>"
      ]
    },
    {
      "cell_type": "markdown",
      "source": [
        "**Python Bacics 01**"
      ],
      "metadata": {
        "id": "K_is8WcgbFsR"
      }
    },
    {
      "cell_type": "markdown",
      "source": [
        "# **21/06/2023**"
      ],
      "metadata": {
        "id": "3wdFIGTSZWT_"
      }
    },
    {
      "cell_type": "code",
      "execution_count": null,
      "metadata": {
        "colab": {
          "base_uri": "https://localhost:8080/"
        },
        "id": "y-FLNuU0VeUS",
        "outputId": "5e359bfa-6f10-4478-b778-1ecd86a239d7"
      },
      "outputs": [
        {
          "output_type": "stream",
          "name": "stdout",
          "text": [
            "Welcome to ExcelR!\n"
          ]
        }
      ],
      "source": [
        "print(\"Welcome to ExcelR!\")"
      ]
    },
    {
      "cell_type": "code",
      "source": [
        "print('\"Welcome to ExcelR!\"')"
      ],
      "metadata": {
        "colab": {
          "base_uri": "https://localhost:8080/"
        },
        "id": "N-Lp2AAqcKrB",
        "outputId": "bc467098-44c5-4d4b-afb0-fba66433a5e4"
      },
      "execution_count": null,
      "outputs": [
        {
          "output_type": "stream",
          "name": "stdout",
          "text": [
            "\"Welcome to ExcelR!\"\n"
          ]
        }
      ]
    },
    {
      "cell_type": "code",
      "source": [
        "120/12*2-4"
      ],
      "metadata": {
        "colab": {
          "base_uri": "https://localhost:8080/"
        },
        "id": "DoQ3DtLKcKuc",
        "outputId": "412fe818-324f-4977-a4bf-ef457d82a6e1"
      },
      "execution_count": null,
      "outputs": [
        {
          "output_type": "execute_result",
          "data": {
            "text/plain": [
              "16.0"
            ]
          },
          "metadata": {},
          "execution_count": 113
        }
      ]
    },
    {
      "cell_type": "code",
      "source": [
        "marks = 20\n",
        "marks"
      ],
      "metadata": {
        "colab": {
          "base_uri": "https://localhost:8080/"
        },
        "id": "UzlknwcXdp6l",
        "outputId": "67563ef0-a459-4a66-be6d-75753b994092"
      },
      "execution_count": null,
      "outputs": [
        {
          "output_type": "execute_result",
          "data": {
            "text/plain": [
              "20"
            ]
          },
          "metadata": {},
          "execution_count": 114
        }
      ]
    },
    {
      "cell_type": "code",
      "source": [
        "type(marks)"
      ],
      "metadata": {
        "colab": {
          "base_uri": "https://localhost:8080/"
        },
        "id": "slrbUw73dqMO",
        "outputId": "1181841e-0527-4742-fa51-b98758927d5c"
      },
      "execution_count": null,
      "outputs": [
        {
          "output_type": "execute_result",
          "data": {
            "text/plain": [
              "int"
            ]
          },
          "metadata": {},
          "execution_count": 115
        }
      ]
    },
    {
      "cell_type": "code",
      "source": [
        "# Power function(**)\n",
        "5**4"
      ],
      "metadata": {
        "colab": {
          "base_uri": "https://localhost:8080/"
        },
        "id": "_bhBuvPHeTqB",
        "outputId": "dac9522a-d9d8-4372-f5db-04f164dd3fd4"
      },
      "execution_count": null,
      "outputs": [
        {
          "output_type": "execute_result",
          "data": {
            "text/plain": [
              "625"
            ]
          },
          "metadata": {},
          "execution_count": 116
        }
      ]
    },
    {
      "cell_type": "code",
      "source": [
        "price = 50.5\n",
        "price\n",
        "type(price) #only shows o/p of last line"
      ],
      "metadata": {
        "colab": {
          "base_uri": "https://localhost:8080/"
        },
        "id": "jZc_LA9UeTvi",
        "outputId": "8b112869-d695-4194-f0e5-c67fba9574e5"
      },
      "execution_count": null,
      "outputs": [
        {
          "output_type": "execute_result",
          "data": {
            "text/plain": [
              "float"
            ]
          },
          "metadata": {},
          "execution_count": 117
        }
      ]
    },
    {
      "cell_type": "code",
      "source": [
        "price = 50.5\n",
        "print(price)\n",
        "type(price)"
      ],
      "metadata": {
        "colab": {
          "base_uri": "https://localhost:8080/"
        },
        "id": "EwnCHjPieTsu",
        "outputId": "fe701567-3448-4d34-f8e4-2e49f8e8896c"
      },
      "execution_count": null,
      "outputs": [
        {
          "output_type": "stream",
          "name": "stdout",
          "text": [
            "50.5\n"
          ]
        },
        {
          "output_type": "execute_result",
          "data": {
            "text/plain": [
              "float"
            ]
          },
          "metadata": {},
          "execution_count": 118
        }
      ]
    },
    {
      "cell_type": "code",
      "source": [
        "name = \"Neha\"\n",
        "type(name)"
      ],
      "metadata": {
        "colab": {
          "base_uri": "https://localhost:8080/"
        },
        "id": "PAHMz-k2eTy9",
        "outputId": "5cb0a1d1-96dd-4404-c420-2f6b013481ab"
      },
      "execution_count": null,
      "outputs": [
        {
          "output_type": "execute_result",
          "data": {
            "text/plain": [
              "str"
            ]
          },
          "metadata": {},
          "execution_count": 119
        }
      ]
    },
    {
      "cell_type": "code",
      "source": [
        "dir(str)"
      ],
      "metadata": {
        "colab": {
          "base_uri": "https://localhost:8080/"
        },
        "id": "na_9C5uHf5i6",
        "outputId": "d2df99f7-2ed8-4058-952b-19eee2d6acc3"
      },
      "execution_count": null,
      "outputs": [
        {
          "output_type": "execute_result",
          "data": {
            "text/plain": [
              "['__add__',\n",
              " '__class__',\n",
              " '__contains__',\n",
              " '__delattr__',\n",
              " '__dir__',\n",
              " '__doc__',\n",
              " '__eq__',\n",
              " '__format__',\n",
              " '__ge__',\n",
              " '__getattribute__',\n",
              " '__getitem__',\n",
              " '__getnewargs__',\n",
              " '__gt__',\n",
              " '__hash__',\n",
              " '__init__',\n",
              " '__init_subclass__',\n",
              " '__iter__',\n",
              " '__le__',\n",
              " '__len__',\n",
              " '__lt__',\n",
              " '__mod__',\n",
              " '__mul__',\n",
              " '__ne__',\n",
              " '__new__',\n",
              " '__reduce__',\n",
              " '__reduce_ex__',\n",
              " '__repr__',\n",
              " '__rmod__',\n",
              " '__rmul__',\n",
              " '__setattr__',\n",
              " '__sizeof__',\n",
              " '__str__',\n",
              " '__subclasshook__',\n",
              " 'capitalize',\n",
              " 'casefold',\n",
              " 'center',\n",
              " 'count',\n",
              " 'encode',\n",
              " 'endswith',\n",
              " 'expandtabs',\n",
              " 'find',\n",
              " 'format',\n",
              " 'format_map',\n",
              " 'index',\n",
              " 'isalnum',\n",
              " 'isalpha',\n",
              " 'isascii',\n",
              " 'isdecimal',\n",
              " 'isdigit',\n",
              " 'isidentifier',\n",
              " 'islower',\n",
              " 'isnumeric',\n",
              " 'isprintable',\n",
              " 'isspace',\n",
              " 'istitle',\n",
              " 'isupper',\n",
              " 'join',\n",
              " 'ljust',\n",
              " 'lower',\n",
              " 'lstrip',\n",
              " 'maketrans',\n",
              " 'partition',\n",
              " 'removeprefix',\n",
              " 'removesuffix',\n",
              " 'replace',\n",
              " 'rfind',\n",
              " 'rindex',\n",
              " 'rjust',\n",
              " 'rpartition',\n",
              " 'rsplit',\n",
              " 'rstrip',\n",
              " 'split',\n",
              " 'splitlines',\n",
              " 'startswith',\n",
              " 'strip',\n",
              " 'swapcase',\n",
              " 'title',\n",
              " 'translate',\n",
              " 'upper',\n",
              " 'zfill']"
            ]
          },
          "metadata": {},
          "execution_count": 120
        }
      ]
    },
    {
      "cell_type": "code",
      "source": [
        "str1 = \"welcome to Data Science\"\n",
        "str1.capitalize()"
      ],
      "metadata": {
        "colab": {
          "base_uri": "https://localhost:8080/",
          "height": 36
        },
        "id": "6J7pl8JQf5Uj",
        "outputId": "30f3dbcc-c9a6-4359-f4e1-0dff7a13d561"
      },
      "execution_count": null,
      "outputs": [
        {
          "output_type": "execute_result",
          "data": {
            "text/plain": [
              "'Welcome to data science'"
            ],
            "application/vnd.google.colaboratory.intrinsic+json": {
              "type": "string"
            }
          },
          "metadata": {},
          "execution_count": 121
        }
      ]
    },
    {
      "cell_type": "code",
      "source": [
        "str1"
      ],
      "metadata": {
        "colab": {
          "base_uri": "https://localhost:8080/",
          "height": 36
        },
        "id": "3RgybCvQf5Fp",
        "outputId": "06b049bc-bdd5-47c7-8ddd-5b5818eb9ad6"
      },
      "execution_count": null,
      "outputs": [
        {
          "output_type": "execute_result",
          "data": {
            "text/plain": [
              "'welcome to Data Science'"
            ],
            "application/vnd.google.colaboratory.intrinsic+json": {
              "type": "string"
            }
          },
          "metadata": {},
          "execution_count": 122
        }
      ]
    },
    {
      "cell_type": "code",
      "source": [
        "str1.upper()"
      ],
      "metadata": {
        "colab": {
          "base_uri": "https://localhost:8080/",
          "height": 36
        },
        "id": "cWKXM-ucf5B-",
        "outputId": "70167c45-e177-4b5c-8732-af2918d1c33d"
      },
      "execution_count": null,
      "outputs": [
        {
          "output_type": "execute_result",
          "data": {
            "text/plain": [
              "'WELCOME TO DATA SCIENCE'"
            ],
            "application/vnd.google.colaboratory.intrinsic+json": {
              "type": "string"
            }
          },
          "metadata": {},
          "execution_count": 123
        }
      ]
    },
    {
      "cell_type": "code",
      "source": [
        "str1.lower()"
      ],
      "metadata": {
        "colab": {
          "base_uri": "https://localhost:8080/",
          "height": 36
        },
        "id": "0nKPNS3tg9tW",
        "outputId": "e874a781-20d1-43ed-c118-0a2146d8028a"
      },
      "execution_count": null,
      "outputs": [
        {
          "output_type": "execute_result",
          "data": {
            "text/plain": [
              "'welcome to data science'"
            ],
            "application/vnd.google.colaboratory.intrinsic+json": {
              "type": "string"
            }
          },
          "metadata": {},
          "execution_count": 124
        }
      ]
    },
    {
      "cell_type": "code",
      "source": [
        "str1.title()"
      ],
      "metadata": {
        "colab": {
          "base_uri": "https://localhost:8080/",
          "height": 36
        },
        "id": "a1tXahfUg9wF",
        "outputId": "e5aff650-c6ef-47e9-93a7-f1dbe8d0c8db"
      },
      "execution_count": null,
      "outputs": [
        {
          "output_type": "execute_result",
          "data": {
            "text/plain": [
              "'Welcome To Data Science'"
            ],
            "application/vnd.google.colaboratory.intrinsic+json": {
              "type": "string"
            }
          },
          "metadata": {},
          "execution_count": 125
        }
      ]
    },
    {
      "cell_type": "code",
      "source": [
        "food =\"bIrYAni\"\n",
        "name=\"sNEHAL\"\n",
        "\n",
        "print(food.swapcase())\n",
        "name.swapcase()"
      ],
      "metadata": {
        "colab": {
          "base_uri": "https://localhost:8080/",
          "height": 54
        },
        "id": "v5jNtovQg9zK",
        "outputId": "84b839a1-806f-4491-b9b2-ee9dd3c54ae3"
      },
      "execution_count": null,
      "outputs": [
        {
          "output_type": "stream",
          "name": "stdout",
          "text": [
            "BiRyaNI\n"
          ]
        },
        {
          "output_type": "execute_result",
          "data": {
            "text/plain": [
              "'Snehal'"
            ],
            "application/vnd.google.colaboratory.intrinsic+json": {
              "type": "string"
            }
          },
          "metadata": {},
          "execution_count": 126
        }
      ]
    },
    {
      "cell_type": "code",
      "source": [
        "food.capitalize()"
      ],
      "metadata": {
        "colab": {
          "base_uri": "https://localhost:8080/",
          "height": 36
        },
        "id": "plxJlit7h8SQ",
        "outputId": "45a71542-5b5a-44ca-c457-470dcbe47ddc"
      },
      "execution_count": null,
      "outputs": [
        {
          "output_type": "execute_result",
          "data": {
            "text/plain": [
              "'Biryani'"
            ],
            "application/vnd.google.colaboratory.intrinsic+json": {
              "type": "string"
            }
          },
          "metadata": {},
          "execution_count": 127
        }
      ]
    },
    {
      "cell_type": "code",
      "source": [
        "s1 =\"My name is Chetan\"\n",
        "print(s1.split()) #list of string is created"
      ],
      "metadata": {
        "colab": {
          "base_uri": "https://localhost:8080/"
        },
        "id": "wUoV7oxah8O1",
        "outputId": "49eb27c8-a376-4eea-ca2f-6a29bb730e6a"
      },
      "execution_count": null,
      "outputs": [
        {
          "output_type": "stream",
          "name": "stdout",
          "text": [
            "['My', 'name', 'is', 'Chetan']\n"
          ]
        }
      ]
    },
    {
      "cell_type": "code",
      "source": [
        "s2 =\"Mumbai - pune -mumbai\"\n",
        "s2.split(\"-\")"
      ],
      "metadata": {
        "colab": {
          "base_uri": "https://localhost:8080/"
        },
        "id": "wkmqNhbzh8L_",
        "outputId": "c3deaca0-d9cb-4cb1-931e-5062c9a7d2a1"
      },
      "execution_count": null,
      "outputs": [
        {
          "output_type": "execute_result",
          "data": {
            "text/plain": [
              "['Mumbai ', ' pune ', 'mumbai']"
            ]
          },
          "metadata": {},
          "execution_count": 129
        }
      ]
    },
    {
      "cell_type": "code",
      "source": [
        "s2.replace(\"-\",\"---\")"
      ],
      "metadata": {
        "colab": {
          "base_uri": "https://localhost:8080/",
          "height": 36
        },
        "id": "xdUD7lxoh8JI",
        "outputId": "bb119198-1727-4e84-8dee-6cc4e507de9d"
      },
      "execution_count": null,
      "outputs": [
        {
          "output_type": "execute_result",
          "data": {
            "text/plain": [
              "'Mumbai --- pune ---mumbai'"
            ],
            "application/vnd.google.colaboratory.intrinsic+json": {
              "type": "string"
            }
          },
          "metadata": {},
          "execution_count": 130
        }
      ]
    },
    {
      "cell_type": "code",
      "source": [
        "city = \"satara\"\n",
        "city.count(\"a\")"
      ],
      "metadata": {
        "colab": {
          "base_uri": "https://localhost:8080/"
        },
        "id": "vhwQX6DUh8GG",
        "outputId": "e96eb051-bd45-4bd1-d8d7-599c62d0ddab"
      },
      "execution_count": null,
      "outputs": [
        {
          "output_type": "execute_result",
          "data": {
            "text/plain": [
              "3"
            ]
          },
          "metadata": {},
          "execution_count": 131
        }
      ]
    },
    {
      "cell_type": "code",
      "source": [
        "\"-\"*40"
      ],
      "metadata": {
        "colab": {
          "base_uri": "https://localhost:8080/",
          "height": 36
        },
        "id": "buIUyTPUh8DQ",
        "outputId": "50b54e8c-7cb2-4391-ecc7-362ea923f886"
      },
      "execution_count": null,
      "outputs": [
        {
          "output_type": "execute_result",
          "data": {
            "text/plain": [
              "'----------------------------------------'"
            ],
            "application/vnd.google.colaboratory.intrinsic+json": {
              "type": "string"
            }
          },
          "metadata": {},
          "execution_count": 132
        }
      ]
    },
    {
      "cell_type": "markdown",
      "source": [
        "# **22/06/2023**\n",
        "Conditional Statment"
      ],
      "metadata": {
        "id": "aHAZkUekZHoJ"
      }
    },
    {
      "cell_type": "code",
      "source": [
        "a= 3\n",
        "b=5\n",
        "\n",
        "if a>b:\n",
        "  print(a,\"is greater\")\n",
        "  print(\"In True Bolck\")\n",
        "  c=a+b\n",
        "  print(c)\n",
        "else:\n",
        "  print(b,\"is greater\")\n",
        "  print(\"In False Bolck\")\n",
        "  c=a*b\n",
        "  print(c)"
      ],
      "metadata": {
        "id": "fMq3mPlBh8Ak",
        "colab": {
          "base_uri": "https://localhost:8080/"
        },
        "outputId": "9c9a856d-ef0c-417a-df59-78a60b05e9a9"
      },
      "execution_count": null,
      "outputs": [
        {
          "output_type": "stream",
          "name": "stdout",
          "text": [
            "5 is greater\n",
            "In False Bolck\n",
            "15\n"
          ]
        }
      ]
    },
    {
      "cell_type": "code",
      "source": [
        "salary = 15000\n",
        "if(salary > 20000):\n",
        "  tax=0.25\n",
        "  print(\"Hello from True\")\n",
        "else:\n",
        "  tax=0.20\n",
        "  print(\"Hello from False\")\n",
        "net_sal=salary-tax*salary\n",
        "print(net_sal)"
      ],
      "metadata": {
        "id": "G92Cd5J8h79l",
        "colab": {
          "base_uri": "https://localhost:8080/"
        },
        "outputId": "c8a5fe54-1001-4693-848e-0ca1694a8592"
      },
      "execution_count": null,
      "outputs": [
        {
          "output_type": "stream",
          "name": "stdout",
          "text": [
            "Hello from False\n",
            "12000.0\n"
          ]
        }
      ]
    },
    {
      "cell_type": "code",
      "source": [
        "# For Loop\n",
        "\n",
        "for i in range(1,11):\n",
        "  print(i)\n",
        "print(\"Bye\")"
      ],
      "metadata": {
        "id": "lM9dx3dPh76k",
        "colab": {
          "base_uri": "https://localhost:8080/"
        },
        "outputId": "51d99a41-e076-405f-fa02-b9a5b4f6e4ca"
      },
      "execution_count": null,
      "outputs": [
        {
          "output_type": "stream",
          "name": "stdout",
          "text": [
            "1\n",
            "2\n",
            "3\n",
            "4\n",
            "5\n",
            "6\n",
            "7\n",
            "8\n",
            "9\n",
            "10\n",
            "Bye\n"
          ]
        }
      ]
    },
    {
      "cell_type": "code",
      "source": [
        "# odd numbers\n",
        "for i in range(1,20,2):\n",
        "  print(i)"
      ],
      "metadata": {
        "id": "ebX4WK-ch73r",
        "colab": {
          "base_uri": "https://localhost:8080/"
        },
        "outputId": "2272e282-c2fc-42f9-beed-bad174c0dada"
      },
      "execution_count": null,
      "outputs": [
        {
          "output_type": "stream",
          "name": "stdout",
          "text": [
            "1\n",
            "3\n",
            "5\n",
            "7\n",
            "9\n",
            "11\n",
            "13\n",
            "15\n",
            "17\n",
            "19\n"
          ]
        }
      ]
    },
    {
      "cell_type": "code",
      "source": [
        "# even numbers\n",
        "for i in range(2,20,2):\n",
        "  print(i)"
      ],
      "metadata": {
        "colab": {
          "base_uri": "https://localhost:8080/"
        },
        "id": "Ay_sJmwFjHEx",
        "outputId": "481e1d32-9c5e-4905-e88c-e303ac14429e"
      },
      "execution_count": null,
      "outputs": [
        {
          "output_type": "stream",
          "name": "stdout",
          "text": [
            "2\n",
            "4\n",
            "6\n",
            "8\n",
            "10\n",
            "12\n",
            "14\n",
            "16\n",
            "18\n"
          ]
        }
      ]
    },
    {
      "cell_type": "code",
      "source": [
        "# break statment\n",
        "for i in range(1,11):\n",
        "  if i==5:\n",
        "    print(\"same\")\n",
        "    break\n",
        "  else:\n",
        "    print(i)"
      ],
      "metadata": {
        "colab": {
          "base_uri": "https://localhost:8080/"
        },
        "id": "6uM5HztyjHIR",
        "outputId": "5ac58c87-a259-406f-9c29-aab3e0c2c895"
      },
      "execution_count": null,
      "outputs": [
        {
          "output_type": "stream",
          "name": "stdout",
          "text": [
            "1\n",
            "2\n",
            "3\n",
            "4\n",
            "same\n"
          ]
        }
      ]
    },
    {
      "cell_type": "code",
      "source": [
        "for n in range(11):\n",
        "  print(n,\" \",n*n)"
      ],
      "metadata": {
        "colab": {
          "base_uri": "https://localhost:8080/"
        },
        "id": "QlIlnl67jHLn",
        "outputId": "f1645f81-3b20-4687-f0d9-20f1ad936194"
      },
      "execution_count": null,
      "outputs": [
        {
          "output_type": "stream",
          "name": "stdout",
          "text": [
            "0   0\n",
            "1   1\n",
            "2   4\n",
            "3   9\n",
            "4   16\n",
            "5   25\n",
            "6   36\n",
            "7   49\n",
            "8   64\n",
            "9   81\n",
            "10   100\n"
          ]
        }
      ]
    },
    {
      "cell_type": "code",
      "source": [
        "for i in range(1,30,5):\n",
        "  print(i)"
      ],
      "metadata": {
        "id": "hNP6Grm2g92A",
        "colab": {
          "base_uri": "https://localhost:8080/"
        },
        "outputId": "3588e60d-7e9f-4708-d2ac-947e88bf9f30"
      },
      "execution_count": null,
      "outputs": [
        {
          "output_type": "stream",
          "name": "stdout",
          "text": [
            "1\n",
            "6\n",
            "11\n",
            "16\n",
            "21\n",
            "26\n"
          ]
        }
      ]
    },
    {
      "cell_type": "code",
      "source": [
        "for i in range(1,30,5):\n",
        "  print(i,\"@\")"
      ],
      "metadata": {
        "id": "9x24cAv4g95X",
        "colab": {
          "base_uri": "https://localhost:8080/"
        },
        "outputId": "d546a291-3f08-4025-db22-eb2d6e6c8d79"
      },
      "execution_count": null,
      "outputs": [
        {
          "output_type": "stream",
          "name": "stdout",
          "text": [
            "1 @\n",
            "6 @\n",
            "11 @\n",
            "16 @\n",
            "21 @\n",
            "26 @\n"
          ]
        }
      ]
    },
    {
      "cell_type": "code",
      "source": [
        "subject =\"Math\"\n",
        "for letter in subject:\n",
        "  print(letter)"
      ],
      "metadata": {
        "id": "RJGbwWcof4v6",
        "colab": {
          "base_uri": "https://localhost:8080/"
        },
        "outputId": "297c6c0a-dfb5-460d-82c8-6931fd92cec6"
      },
      "execution_count": null,
      "outputs": [
        {
          "output_type": "stream",
          "name": "stdout",
          "text": [
            "M\n",
            "a\n",
            "t\n",
            "h\n"
          ]
        }
      ]
    },
    {
      "cell_type": "code",
      "source": [
        "# Q: print name 3 times on first line ,4 times ,5 times ,6 times ?\n",
        "name = \"Snehal\"\n",
        "for i in range(3,7):\n",
        "  x = (name + \" \")*i\n",
        "  print(x)"
      ],
      "metadata": {
        "colab": {
          "base_uri": "https://localhost:8080/"
        },
        "id": "KRBGmQ4Nq5Dw",
        "outputId": "ffd415a5-48b8-4a18-c1a7-a539895ec3a7"
      },
      "execution_count": null,
      "outputs": [
        {
          "output_type": "stream",
          "name": "stdout",
          "text": [
            "Snehal Snehal Snehal \n",
            "Snehal Snehal Snehal Snehal \n",
            "Snehal Snehal Snehal Snehal Snehal \n",
            "Snehal Snehal Snehal Snehal Snehal Snehal \n"
          ]
        }
      ]
    },
    {
      "cell_type": "code",
      "source": [
        "movie = \"Drishyam\"\n",
        "for i in movie:\n",
        "  # print(i,end=\" \")\n",
        "  print(i.upper(),end = \"  **  \")"
      ],
      "metadata": {
        "colab": {
          "base_uri": "https://localhost:8080/"
        },
        "id": "6Duc8Mj_q5Gk",
        "outputId": "6d4fb625-01e5-4f8f-921a-77593d3463aa"
      },
      "execution_count": null,
      "outputs": [
        {
          "output_type": "stream",
          "name": "stdout",
          "text": [
            "D  **  R  **  I  **  S  **  H  **  Y  **  A  **  M  **  "
          ]
        }
      ]
    },
    {
      "cell_type": "code",
      "source": [
        "for i in range(1,11):\n",
        "  if i % 2 == 0:\n",
        "    print('Even Number :',i)\n",
        "  else:\n",
        "    print('Odd Number :',i)\n"
      ],
      "metadata": {
        "colab": {
          "base_uri": "https://localhost:8080/"
        },
        "id": "Bk8UuSFYq5Ja",
        "outputId": "9ed313d9-b921-40a6-ebe3-cfb85e66a15f"
      },
      "execution_count": null,
      "outputs": [
        {
          "output_type": "stream",
          "name": "stdout",
          "text": [
            "Odd Number : 1\n",
            "Even Number : 2\n",
            "Odd Number : 3\n",
            "Even Number : 4\n",
            "Odd Number : 5\n",
            "Even Number : 6\n",
            "Odd Number : 7\n",
            "Even Number : 8\n",
            "Odd Number : 9\n",
            "Even Number : 10\n"
          ]
        }
      ]
    },
    {
      "cell_type": "markdown",
      "source": [
        "# ***23/6/2023***"
      ],
      "metadata": {
        "id": "ksgDj6mPkee6"
      }
    },
    {
      "cell_type": "code",
      "source": [
        "status1 = True\n",
        "status2 = False\n",
        "print(type(status1))\n",
        "type(status2)"
      ],
      "metadata": {
        "id": "-M1rKi3yq5Mf",
        "colab": {
          "base_uri": "https://localhost:8080/"
        },
        "outputId": "bc31326b-6ad1-45c1-a3a1-d95eefb70e0e"
      },
      "execution_count": null,
      "outputs": [
        {
          "output_type": "stream",
          "name": "stdout",
          "text": [
            "<class 'bool'>\n"
          ]
        },
        {
          "output_type": "execute_result",
          "data": {
            "text/plain": [
              "bool"
            ]
          },
          "metadata": {},
          "execution_count": 146
        }
      ]
    },
    {
      "cell_type": "code",
      "source": [
        "for i in \"Data\":\n",
        "  print(i*4)"
      ],
      "metadata": {
        "id": "u8M5aS6zq5PQ",
        "colab": {
          "base_uri": "https://localhost:8080/"
        },
        "outputId": "b08ac006-c27c-488e-b6ac-800aed8ddcb3"
      },
      "execution_count": null,
      "outputs": [
        {
          "output_type": "stream",
          "name": "stdout",
          "text": [
            "DDDD\n",
            "aaaa\n",
            "tttt\n",
            "aaaa\n"
          ]
        }
      ]
    },
    {
      "cell_type": "code",
      "source": [
        "len(\"Chetan \")"
      ],
      "metadata": {
        "id": "P1pAaTx2q5SX",
        "colab": {
          "base_uri": "https://localhost:8080/"
        },
        "outputId": "37b0bdbb-1698-43d8-b150-df3cf1a47b1d"
      },
      "execution_count": null,
      "outputs": [
        {
          "output_type": "execute_result",
          "data": {
            "text/plain": [
              "7"
            ]
          },
          "metadata": {},
          "execution_count": 148
        }
      ]
    },
    {
      "cell_type": "markdown",
      "source": [
        "# ***Data Structures***\n"
      ],
      "metadata": {
        "id": "J5Tb99Dmti2q"
      }
    },
    {
      "cell_type": "markdown",
      "source": [
        "**1.List**\n",
        "\n",
        "`list are mutable`\n",
        "\n",
        "`created using squar brackets []`\n"
      ],
      "metadata": {
        "id": "Yb29LeFztrFP"
      }
    },
    {
      "cell_type": "code",
      "source": [
        "marks = [40,43,56,87,78,54,23]\n",
        "marks"
      ],
      "metadata": {
        "id": "Ood7tZL3q5V5",
        "colab": {
          "base_uri": "https://localhost:8080/"
        },
        "outputId": "807b4251-b09b-4525-82ad-d7903064e90d"
      },
      "execution_count": null,
      "outputs": [
        {
          "output_type": "execute_result",
          "data": {
            "text/plain": [
              "[40, 43, 56, 87, 78, 54, 23]"
            ]
          },
          "metadata": {},
          "execution_count": 149
        }
      ]
    },
    {
      "cell_type": "code",
      "source": [
        "type(marks)"
      ],
      "metadata": {
        "colab": {
          "base_uri": "https://localhost:8080/"
        },
        "id": "Lq9Yzyf8uPrY",
        "outputId": "bf662d79-51ec-4eb0-b0b9-2638989597c5"
      },
      "execution_count": null,
      "outputs": [
        {
          "output_type": "execute_result",
          "data": {
            "text/plain": [
              "list"
            ]
          },
          "metadata": {},
          "execution_count": 150
        }
      ]
    },
    {
      "cell_type": "code",
      "source": [
        "dir(list)"
      ],
      "metadata": {
        "colab": {
          "base_uri": "https://localhost:8080/"
        },
        "id": "LN3SI2RquSAK",
        "outputId": "22b8835b-e6ee-4ab3-f672-b8556e712700"
      },
      "execution_count": null,
      "outputs": [
        {
          "output_type": "execute_result",
          "data": {
            "text/plain": [
              "['__add__',\n",
              " '__class__',\n",
              " '__class_getitem__',\n",
              " '__contains__',\n",
              " '__delattr__',\n",
              " '__delitem__',\n",
              " '__dir__',\n",
              " '__doc__',\n",
              " '__eq__',\n",
              " '__format__',\n",
              " '__ge__',\n",
              " '__getattribute__',\n",
              " '__getitem__',\n",
              " '__gt__',\n",
              " '__hash__',\n",
              " '__iadd__',\n",
              " '__imul__',\n",
              " '__init__',\n",
              " '__init_subclass__',\n",
              " '__iter__',\n",
              " '__le__',\n",
              " '__len__',\n",
              " '__lt__',\n",
              " '__mul__',\n",
              " '__ne__',\n",
              " '__new__',\n",
              " '__reduce__',\n",
              " '__reduce_ex__',\n",
              " '__repr__',\n",
              " '__reversed__',\n",
              " '__rmul__',\n",
              " '__setattr__',\n",
              " '__setitem__',\n",
              " '__sizeof__',\n",
              " '__str__',\n",
              " '__subclasshook__',\n",
              " 'append',\n",
              " 'clear',\n",
              " 'copy',\n",
              " 'count',\n",
              " 'extend',\n",
              " 'index',\n",
              " 'insert',\n",
              " 'pop',\n",
              " 'remove',\n",
              " 'reverse',\n",
              " 'sort']"
            ]
          },
          "metadata": {},
          "execution_count": 151
        }
      ]
    },
    {
      "cell_type": "code",
      "source": [
        "len(marks)"
      ],
      "metadata": {
        "colab": {
          "base_uri": "https://localhost:8080/"
        },
        "id": "bZx6X_RtuYcl",
        "outputId": "0bfc2dec-d160-4adc-a7cb-5128ff204924"
      },
      "execution_count": null,
      "outputs": [
        {
          "output_type": "execute_result",
          "data": {
            "text/plain": [
              "7"
            ]
          },
          "metadata": {},
          "execution_count": 152
        }
      ]
    },
    {
      "cell_type": "code",
      "source": [
        "sorted(marks)"
      ],
      "metadata": {
        "colab": {
          "base_uri": "https://localhost:8080/"
        },
        "id": "hlIhr8d3uwUN",
        "outputId": "fa5ae019-ae90-4c46-87f3-cfc44ff2abe3"
      },
      "execution_count": null,
      "outputs": [
        {
          "output_type": "execute_result",
          "data": {
            "text/plain": [
              "[23, 40, 43, 54, 56, 78, 87]"
            ]
          },
          "metadata": {},
          "execution_count": 153
        }
      ]
    },
    {
      "cell_type": "code",
      "source": [
        "marks"
      ],
      "metadata": {
        "colab": {
          "base_uri": "https://localhost:8080/"
        },
        "id": "SeR_woXIvKzX",
        "outputId": "721f02aa-88a1-4046-8404-03bfce6e0a9f"
      },
      "execution_count": null,
      "outputs": [
        {
          "output_type": "execute_result",
          "data": {
            "text/plain": [
              "[40, 43, 56, 87, 78, 54, 23]"
            ]
          },
          "metadata": {},
          "execution_count": 154
        }
      ]
    },
    {
      "cell_type": "code",
      "source": [
        "marks.sort()\n",
        "marks"
      ],
      "metadata": {
        "colab": {
          "base_uri": "https://localhost:8080/"
        },
        "id": "7tB0MDtVvMli",
        "outputId": "ebedd44f-8575-4d5c-d854-46e70979a30c"
      },
      "execution_count": null,
      "outputs": [
        {
          "output_type": "execute_result",
          "data": {
            "text/plain": [
              "[23, 40, 43, 54, 56, 78, 87]"
            ]
          },
          "metadata": {},
          "execution_count": 155
        }
      ]
    },
    {
      "cell_type": "code",
      "source": [
        "marks.append(40)\n",
        "marks"
      ],
      "metadata": {
        "colab": {
          "base_uri": "https://localhost:8080/"
        },
        "id": "yUSb53B4vMox",
        "outputId": "6166bc70-4a2c-48eb-b5a0-2fbce403d844"
      },
      "execution_count": null,
      "outputs": [
        {
          "output_type": "execute_result",
          "data": {
            "text/plain": [
              "[23, 40, 43, 54, 56, 78, 87, 40]"
            ]
          },
          "metadata": {},
          "execution_count": 156
        }
      ]
    },
    {
      "cell_type": "code",
      "source": [
        "marks.remove(40)\n",
        "marks"
      ],
      "metadata": {
        "colab": {
          "base_uri": "https://localhost:8080/"
        },
        "id": "GfNfkHgKvMsT",
        "outputId": "75635165-fb52-49c4-b88f-fbdaf3617abe"
      },
      "execution_count": null,
      "outputs": [
        {
          "output_type": "execute_result",
          "data": {
            "text/plain": [
              "[23, 43, 54, 56, 78, 87, 40]"
            ]
          },
          "metadata": {},
          "execution_count": 157
        }
      ]
    },
    {
      "cell_type": "code",
      "source": [
        "max(marks)"
      ],
      "metadata": {
        "id": "Gy7il3LbwLNG",
        "colab": {
          "base_uri": "https://localhost:8080/"
        },
        "outputId": "1cb48140-a0db-42d6-ba2a-3fcd5a4356e6"
      },
      "execution_count": null,
      "outputs": [
        {
          "output_type": "execute_result",
          "data": {
            "text/plain": [
              "87"
            ]
          },
          "metadata": {},
          "execution_count": 158
        }
      ]
    },
    {
      "cell_type": "code",
      "source": [
        "min(marks)"
      ],
      "metadata": {
        "colab": {
          "base_uri": "https://localhost:8080/"
        },
        "id": "wxuaoI6vYh_t",
        "outputId": "0003cc67-6233-471c-efcb-e051e20ee2d1"
      },
      "execution_count": null,
      "outputs": [
        {
          "output_type": "execute_result",
          "data": {
            "text/plain": [
              "23"
            ]
          },
          "metadata": {},
          "execution_count": 159
        }
      ]
    },
    {
      "cell_type": "code",
      "source": [
        "marks.reverse()\n",
        "marks"
      ],
      "metadata": {
        "colab": {
          "base_uri": "https://localhost:8080/"
        },
        "id": "zbAlgQ1oYkJ0",
        "outputId": "7f65eafb-d270-44f5-f9ae-643bf8899878"
      },
      "execution_count": null,
      "outputs": [
        {
          "output_type": "execute_result",
          "data": {
            "text/plain": [
              "[40, 87, 78, 56, 54, 43, 23]"
            ]
          },
          "metadata": {},
          "execution_count": 160
        }
      ]
    },
    {
      "cell_type": "code",
      "source": [
        "marks2=[23,65,78,65,54,35]\n",
        "marks2"
      ],
      "metadata": {
        "colab": {
          "base_uri": "https://localhost:8080/"
        },
        "id": "eVNTs_OzZO8c",
        "outputId": "6cd24cee-c449-4752-9313-a9aec9819f6f"
      },
      "execution_count": null,
      "outputs": [
        {
          "output_type": "execute_result",
          "data": {
            "text/plain": [
              "[23, 65, 78, 65, 54, 35]"
            ]
          },
          "metadata": {},
          "execution_count": 161
        }
      ]
    },
    {
      "cell_type": "code",
      "source": [
        "marks2.sort(reverse=True)\n",
        "marks2"
      ],
      "metadata": {
        "colab": {
          "base_uri": "https://localhost:8080/"
        },
        "id": "i6dZrzPHZO_8",
        "outputId": "b672052b-3306-43fd-8d75-07fcebad7fea"
      },
      "execution_count": null,
      "outputs": [
        {
          "output_type": "execute_result",
          "data": {
            "text/plain": [
              "[78, 65, 65, 54, 35, 23]"
            ]
          },
          "metadata": {},
          "execution_count": 162
        }
      ]
    },
    {
      "cell_type": "code",
      "source": [
        "m3 = [ 54,77,67,54,34]\n",
        "m3.sort(reverse =False) #default\n",
        "m3"
      ],
      "metadata": {
        "colab": {
          "base_uri": "https://localhost:8080/"
        },
        "id": "9kkeCZG1Zx6C",
        "outputId": "b6c83573-c271-42d5-9430-3742a4849173"
      },
      "execution_count": null,
      "outputs": [
        {
          "output_type": "execute_result",
          "data": {
            "text/plain": [
              "[34, 54, 54, 67, 77]"
            ]
          },
          "metadata": {},
          "execution_count": 163
        }
      ]
    },
    {
      "cell_type": "code",
      "source": [
        "67 in m3"
      ],
      "metadata": {
        "colab": {
          "base_uri": "https://localhost:8080/"
        },
        "id": "0afSsj5pZx9H",
        "outputId": "a948ba85-bd55-49f4-8599-f603b9142c17"
      },
      "execution_count": null,
      "outputs": [
        {
          "output_type": "execute_result",
          "data": {
            "text/plain": [
              "True"
            ]
          },
          "metadata": {},
          "execution_count": 164
        }
      ]
    },
    {
      "cell_type": "code",
      "source": [
        "l1 = [ 12,34,43]\n",
        "l2 = [2,43,4]\n",
        "l1 + l2"
      ],
      "metadata": {
        "colab": {
          "base_uri": "https://localhost:8080/"
        },
        "id": "P-ZVAUw2Zx_8",
        "outputId": "8ea910e2-1826-4a0f-f641-59d83aab0a78"
      },
      "execution_count": null,
      "outputs": [
        {
          "output_type": "execute_result",
          "data": {
            "text/plain": [
              "[12, 34, 43, 2, 43, 4]"
            ]
          },
          "metadata": {},
          "execution_count": 165
        }
      ]
    },
    {
      "cell_type": "code",
      "source": [
        "(l1+l2)*2"
      ],
      "metadata": {
        "colab": {
          "base_uri": "https://localhost:8080/"
        },
        "id": "q2-nsfXCisdx",
        "outputId": "91285d47-9e5c-4714-dae6-486ce6baff9d"
      },
      "execution_count": null,
      "outputs": [
        {
          "output_type": "execute_result",
          "data": {
            "text/plain": [
              "[12, 34, 43, 2, 43, 4, 12, 34, 43, 2, 43, 4]"
            ]
          },
          "metadata": {},
          "execution_count": 166
        }
      ]
    },
    {
      "cell_type": "markdown",
      "source": [
        "# **Data Structure**"
      ],
      "metadata": {
        "id": "pkXfIJ8O_RPq"
      }
    },
    {
      "cell_type": "markdown",
      "source": [
        "List of strings"
      ],
      "metadata": {
        "id": "FSied6Ast3fa"
      }
    },
    {
      "cell_type": "code",
      "source": [
        "l = [\"Mango\",'Apple','Banana','Pineapple','Custard Apple','Stawberry']\n",
        "l"
      ],
      "metadata": {
        "colab": {
          "base_uri": "https://localhost:8080/"
        },
        "id": "8KkpxTG9isgW",
        "outputId": "86797666-b72c-4310-aaf9-c6bbe3ab767e"
      },
      "execution_count": null,
      "outputs": [
        {
          "output_type": "execute_result",
          "data": {
            "text/plain": [
              "['Mango', 'Apple', 'Banana', 'Pineapple', 'Custard Apple', 'Stawberry']"
            ]
          },
          "metadata": {},
          "execution_count": 167
        }
      ]
    },
    {
      "cell_type": "code",
      "source": [
        "for f in l:\n",
        "  # print(f.upper())\n",
        "  print(f.upper(),end = \" \")\n",
        "  # print(f.replace('u','a'),end = ' ')"
      ],
      "metadata": {
        "colab": {
          "base_uri": "https://localhost:8080/"
        },
        "id": "b7ghkyfsisj0",
        "outputId": "66e7cc63-e42f-458d-fa18-49f24b98a69d"
      },
      "execution_count": null,
      "outputs": [
        {
          "output_type": "stream",
          "name": "stdout",
          "text": [
            "MANGO APPLE BANANA PINEAPPLE CUSTARD APPLE STAWBERRY "
          ]
        }
      ]
    },
    {
      "cell_type": "code",
      "source": [
        "l[0]"
      ],
      "metadata": {
        "id": "SLpD8eNLZyDX",
        "colab": {
          "base_uri": "https://localhost:8080/",
          "height": 36
        },
        "outputId": "32b4a890-9211-4e71-d610-0762d405ce21"
      },
      "execution_count": null,
      "outputs": [
        {
          "output_type": "execute_result",
          "data": {
            "text/plain": [
              "'Mango'"
            ],
            "application/vnd.google.colaboratory.intrinsic+json": {
              "type": "string"
            }
          },
          "metadata": {},
          "execution_count": 169
        }
      ]
    },
    {
      "cell_type": "code",
      "source": [
        "l[5]"
      ],
      "metadata": {
        "colab": {
          "base_uri": "https://localhost:8080/",
          "height": 36
        },
        "id": "SgBRWeGYio99",
        "outputId": "20528abe-ef56-4410-a920-9d98867954c2"
      },
      "execution_count": null,
      "outputs": [
        {
          "output_type": "execute_result",
          "data": {
            "text/plain": [
              "'Stawberry'"
            ],
            "application/vnd.google.colaboratory.intrinsic+json": {
              "type": "string"
            }
          },
          "metadata": {},
          "execution_count": 170
        }
      ]
    },
    {
      "cell_type": "code",
      "source": [
        "l[:4]"
      ],
      "metadata": {
        "colab": {
          "base_uri": "https://localhost:8080/"
        },
        "id": "AgkFD_0LipA1",
        "outputId": "1a0e145d-1b8e-43eb-d1e0-f799dda79a3c"
      },
      "execution_count": null,
      "outputs": [
        {
          "output_type": "execute_result",
          "data": {
            "text/plain": [
              "['Mango', 'Apple', 'Banana', 'Pineapple']"
            ]
          },
          "metadata": {},
          "execution_count": 171
        }
      ]
    },
    {
      "cell_type": "code",
      "source": [
        "l[1:]"
      ],
      "metadata": {
        "colab": {
          "base_uri": "https://localhost:8080/"
        },
        "id": "biLPKqwxjTfS",
        "outputId": "47c7e9d1-5c6e-45b5-882e-e8a96a5ff9d3"
      },
      "execution_count": null,
      "outputs": [
        {
          "output_type": "execute_result",
          "data": {
            "text/plain": [
              "['Apple', 'Banana', 'Pineapple', 'Custard Apple', 'Stawberry']"
            ]
          },
          "metadata": {},
          "execution_count": 172
        }
      ]
    },
    {
      "cell_type": "code",
      "source": [
        "l[-1]"
      ],
      "metadata": {
        "colab": {
          "base_uri": "https://localhost:8080/",
          "height": 36
        },
        "id": "aQbT0VZojTiC",
        "outputId": "8c366bb8-48cd-4a83-c665-9850c8432ef9"
      },
      "execution_count": null,
      "outputs": [
        {
          "output_type": "execute_result",
          "data": {
            "text/plain": [
              "'Stawberry'"
            ],
            "application/vnd.google.colaboratory.intrinsic+json": {
              "type": "string"
            }
          },
          "metadata": {},
          "execution_count": 173
        }
      ]
    },
    {
      "cell_type": "code",
      "source": [
        "l[-6]"
      ],
      "metadata": {
        "colab": {
          "base_uri": "https://localhost:8080/",
          "height": 36
        },
        "id": "ptUrbNRhjTkr",
        "outputId": "88735fce-e397-4a37-dcfe-6dc920dec4fd"
      },
      "execution_count": null,
      "outputs": [
        {
          "output_type": "execute_result",
          "data": {
            "text/plain": [
              "'Mango'"
            ],
            "application/vnd.google.colaboratory.intrinsic+json": {
              "type": "string"
            }
          },
          "metadata": {},
          "execution_count": 174
        }
      ]
    },
    {
      "cell_type": "code",
      "source": [
        "print(l)\n",
        "l[::2]"
      ],
      "metadata": {
        "colab": {
          "base_uri": "https://localhost:8080/"
        },
        "id": "HxpEml8SjTno",
        "outputId": "e4af5ab6-0948-44f7-f97e-1fc38199ca80"
      },
      "execution_count": null,
      "outputs": [
        {
          "output_type": "stream",
          "name": "stdout",
          "text": [
            "['Mango', 'Apple', 'Banana', 'Pineapple', 'Custard Apple', 'Stawberry']\n"
          ]
        },
        {
          "output_type": "execute_result",
          "data": {
            "text/plain": [
              "['Mango', 'Banana', 'Custard Apple']"
            ]
          },
          "metadata": {},
          "execution_count": 175
        }
      ]
    },
    {
      "cell_type": "code",
      "source": [
        "l1=list(range(1,21))\n",
        "l1"
      ],
      "metadata": {
        "colab": {
          "base_uri": "https://localhost:8080/"
        },
        "id": "IKb--29gjTqJ",
        "outputId": "e2ff5555-74c1-44cb-c1e2-4641b8fe4bb8"
      },
      "execution_count": null,
      "outputs": [
        {
          "output_type": "execute_result",
          "data": {
            "text/plain": [
              "[1, 2, 3, 4, 5, 6, 7, 8, 9, 10, 11, 12, 13, 14, 15, 16, 17, 18, 19, 20]"
            ]
          },
          "metadata": {},
          "execution_count": 176
        }
      ]
    },
    {
      "cell_type": "markdown",
      "source": [
        "# **26/6/2023**"
      ],
      "metadata": {
        "id": "H-NxNxFO_Wlq"
      }
    },
    {
      "cell_type": "code",
      "source": [
        "l1[::4]"
      ],
      "metadata": {
        "id": "ZT_XJZc5jTtn",
        "colab": {
          "base_uri": "https://localhost:8080/"
        },
        "outputId": "af721c72-2392-4af2-ee2b-2a0ae4234670"
      },
      "execution_count": null,
      "outputs": [
        {
          "output_type": "execute_result",
          "data": {
            "text/plain": [
              "[1, 5, 9, 13, 17]"
            ]
          },
          "metadata": {},
          "execution_count": 177
        }
      ]
    },
    {
      "cell_type": "code",
      "source": [
        "l1[2:20:5]"
      ],
      "metadata": {
        "colab": {
          "base_uri": "https://localhost:8080/"
        },
        "id": "u8Ar67AX_0wK",
        "outputId": "d5cdd299-1d8c-4cae-b178-4b20dd447a9e"
      },
      "execution_count": null,
      "outputs": [
        {
          "output_type": "execute_result",
          "data": {
            "text/plain": [
              "[3, 8, 13, 18]"
            ]
          },
          "metadata": {},
          "execution_count": 178
        }
      ]
    },
    {
      "cell_type": "code",
      "source": [
        "print(l)"
      ],
      "metadata": {
        "colab": {
          "base_uri": "https://localhost:8080/"
        },
        "id": "o4sAuPiY_0zI",
        "outputId": "054d40d6-d640-46ba-ef55-a4abd905ffeb"
      },
      "execution_count": null,
      "outputs": [
        {
          "output_type": "stream",
          "name": "stdout",
          "text": [
            "['Mango', 'Apple', 'Banana', 'Pineapple', 'Custard Apple', 'Stawberry']\n"
          ]
        }
      ]
    },
    {
      "cell_type": "code",
      "source": [
        "l[::-1]"
      ],
      "metadata": {
        "colab": {
          "base_uri": "https://localhost:8080/"
        },
        "id": "y_p9RM_m_02D",
        "outputId": "9ea094b5-b76f-4d9d-d263-da996cc80f9d"
      },
      "execution_count": null,
      "outputs": [
        {
          "output_type": "execute_result",
          "data": {
            "text/plain": [
              "['Stawberry', 'Custard Apple', 'Pineapple', 'Banana', 'Apple', 'Mango']"
            ]
          },
          "metadata": {},
          "execution_count": 180
        }
      ]
    },
    {
      "cell_type": "code",
      "source": [],
      "metadata": {
        "id": "OBBtUcUL_044"
      },
      "execution_count": null,
      "outputs": []
    },
    {
      "cell_type": "markdown",
      "source": [
        "Use of 'in' keyword"
      ],
      "metadata": {
        "id": "jPtR4cbvDOwB"
      }
    },
    {
      "cell_type": "code",
      "source": [
        "'the' in 'Netherland'"
      ],
      "metadata": {
        "colab": {
          "base_uri": "https://localhost:8080/"
        },
        "id": "quzVRTgd_07m",
        "outputId": "7ff26c65-f41b-49e8-de20-80fb75527df3"
      },
      "execution_count": null,
      "outputs": [
        {
          "output_type": "execute_result",
          "data": {
            "text/plain": [
              "True"
            ]
          },
          "metadata": {},
          "execution_count": 181
        }
      ]
    },
    {
      "cell_type": "code",
      "source": [
        "l"
      ],
      "metadata": {
        "colab": {
          "base_uri": "https://localhost:8080/"
        },
        "id": "MU2pX2V9_0-i",
        "outputId": "87dae75f-a1df-4cfa-b897-ff8784d7410a"
      },
      "execution_count": null,
      "outputs": [
        {
          "output_type": "execute_result",
          "data": {
            "text/plain": [
              "['Mango', 'Apple', 'Banana', 'Pineapple', 'Custard Apple', 'Stawberry']"
            ]
          },
          "metadata": {},
          "execution_count": 182
        }
      ]
    },
    {
      "cell_type": "code",
      "source": [
        "l.append(\"Mulberry\")"
      ],
      "metadata": {
        "id": "t5cYLARn_1BR"
      },
      "execution_count": null,
      "outputs": []
    },
    {
      "cell_type": "code",
      "source": [
        "l"
      ],
      "metadata": {
        "colab": {
          "base_uri": "https://localhost:8080/"
        },
        "id": "TzYnTNOyFq_e",
        "outputId": "9c58a4ba-54e5-4ad7-d281-826e09f9183e"
      },
      "execution_count": null,
      "outputs": [
        {
          "output_type": "execute_result",
          "data": {
            "text/plain": [
              "['Mango',\n",
              " 'Apple',\n",
              " 'Banana',\n",
              " 'Pineapple',\n",
              " 'Custard Apple',\n",
              " 'Stawberry',\n",
              " 'Mulberry']"
            ]
          },
          "metadata": {},
          "execution_count": 184
        }
      ]
    },
    {
      "cell_type": "code",
      "source": [
        "l.remove('Mulberry')"
      ],
      "metadata": {
        "id": "jeFp2Eyf_1HI"
      },
      "execution_count": null,
      "outputs": []
    },
    {
      "cell_type": "code",
      "source": [
        "l"
      ],
      "metadata": {
        "colab": {
          "base_uri": "https://localhost:8080/"
        },
        "id": "dGz_UaFQ_1KG",
        "outputId": "110c4fd3-c17a-4571-8e65-cb31a8b2c6d5"
      },
      "execution_count": null,
      "outputs": [
        {
          "output_type": "execute_result",
          "data": {
            "text/plain": [
              "['Mango', 'Apple', 'Banana', 'Pineapple', 'Custard Apple', 'Stawberry']"
            ]
          },
          "metadata": {},
          "execution_count": 186
        }
      ]
    },
    {
      "cell_type": "code",
      "source": [
        "for f in l:\n",
        "  if 'berry' in f:\n",
        "    print(f)"
      ],
      "metadata": {
        "colab": {
          "base_uri": "https://localhost:8080/"
        },
        "id": "9QB8CfphFj8b",
        "outputId": "402abc17-c068-4ecf-9076-cd00dca026b5"
      },
      "execution_count": null,
      "outputs": [
        {
          "output_type": "stream",
          "name": "stdout",
          "text": [
            "Stawberry\n"
          ]
        }
      ]
    },
    {
      "cell_type": "code",
      "source": [
        "for f in l:\n",
        "  if 'pple' in f:\n",
        "    print(f,end=',')"
      ],
      "metadata": {
        "colab": {
          "base_uri": "https://localhost:8080/"
        },
        "id": "GkzRx1wB_1Nf",
        "outputId": "5283763e-9d53-4a08-bd33-07084e445697"
      },
      "execution_count": null,
      "outputs": [
        {
          "output_type": "stream",
          "name": "stdout",
          "text": [
            "Apple,Pineapple,Custard Apple,"
          ]
        }
      ]
    },
    {
      "cell_type": "code",
      "source": [
        "l4=[]\n",
        "l5=[]\n",
        "for f in l:\n",
        "  if 'pple' in f:\n",
        "    l4.append(f)\n",
        "  else:\n",
        "    l5.append(f)"
      ],
      "metadata": {
        "id": "Ogg7CGfxIhRN"
      },
      "execution_count": null,
      "outputs": []
    },
    {
      "cell_type": "code",
      "source": [
        "l4"
      ],
      "metadata": {
        "id": "3t65O4IWipEQ",
        "colab": {
          "base_uri": "https://localhost:8080/"
        },
        "outputId": "651732c9-45ad-4516-ef51-688c3b4a92ca"
      },
      "execution_count": null,
      "outputs": [
        {
          "output_type": "execute_result",
          "data": {
            "text/plain": [
              "['Apple', 'Pineapple', 'Custard Apple']"
            ]
          },
          "metadata": {},
          "execution_count": 190
        }
      ]
    },
    {
      "cell_type": "code",
      "source": [
        "l5"
      ],
      "metadata": {
        "colab": {
          "base_uri": "https://localhost:8080/"
        },
        "id": "IaCpwClyJHno",
        "outputId": "a1d71a05-0573-42c0-982b-92de46c4a618"
      },
      "execution_count": null,
      "outputs": [
        {
          "output_type": "execute_result",
          "data": {
            "text/plain": [
              "['Mango', 'Banana', 'Stawberry']"
            ]
          },
          "metadata": {},
          "execution_count": 191
        }
      ]
    },
    {
      "cell_type": "code",
      "source": [
        "l2=[]\n",
        "l1=[1,2,3,4,5,6]\n",
        "for i in l1:\n",
        "  l2.append(i**2)\n",
        "print(l1,end = \" \\n\")\n",
        "print(\"Square root :\",l2,end = \" \")"
      ],
      "metadata": {
        "colab": {
          "base_uri": "https://localhost:8080/"
        },
        "id": "SpvFPCfBJSCh",
        "outputId": "f57672b7-908e-48de-ab86-bfb1d4094205"
      },
      "execution_count": null,
      "outputs": [
        {
          "output_type": "stream",
          "name": "stdout",
          "text": [
            "[1, 2, 3, 4, 5, 6] \n",
            "Square root : [1, 4, 9, 16, 25, 36] "
          ]
        }
      ]
    },
    {
      "cell_type": "markdown",
      "source": [
        "## List comprehnsion - makes your code compact"
      ],
      "metadata": {
        "id": "JD6cMWrvL-wT"
      }
    },
    {
      "cell_type": "code",
      "source": [
        "l3=[i**2 for i in l1]\n",
        "l3"
      ],
      "metadata": {
        "colab": {
          "base_uri": "https://localhost:8080/"
        },
        "id": "4zxSDBZyJSF6",
        "outputId": "56ead84d-48b2-4a3d-d69a-2c2ea7c62837"
      },
      "execution_count": null,
      "outputs": [
        {
          "output_type": "execute_result",
          "data": {
            "text/plain": [
              "[1, 4, 9, 16, 25, 36]"
            ]
          },
          "metadata": {},
          "execution_count": 193
        }
      ]
    },
    {
      "cell_type": "code",
      "source": [
        "l5=[f for f in l if \"berry\" in f]\n",
        "l5"
      ],
      "metadata": {
        "colab": {
          "base_uri": "https://localhost:8080/"
        },
        "id": "mVLFKYJBMfat",
        "outputId": "481c2910-8a0e-41e0-d330-b57f5caf4aac"
      },
      "execution_count": null,
      "outputs": [
        {
          "output_type": "execute_result",
          "data": {
            "text/plain": [
              "['Stawberry']"
            ]
          },
          "metadata": {},
          "execution_count": 194
        }
      ]
    },
    {
      "cell_type": "code",
      "source": [
        "l5=[f for f in l if \"berry\" not in f]\n",
        "l5"
      ],
      "metadata": {
        "colab": {
          "base_uri": "https://localhost:8080/"
        },
        "id": "pnZEsymxM8a4",
        "outputId": "1fc0eae5-84e5-4572-cf27-ce068bd9e24c"
      },
      "execution_count": null,
      "outputs": [
        {
          "output_type": "execute_result",
          "data": {
            "text/plain": [
              "['Mango', 'Apple', 'Banana', 'Pineapple', 'Custard Apple']"
            ]
          },
          "metadata": {},
          "execution_count": 195
        }
      ]
    },
    {
      "cell_type": "code",
      "source": [
        "l.index(\"Mango\")"
      ],
      "metadata": {
        "colab": {
          "base_uri": "https://localhost:8080/"
        },
        "id": "rwPReBtQM8d6",
        "outputId": "57f6fa21-d172-465b-f355-8854c7adc95b"
      },
      "execution_count": null,
      "outputs": [
        {
          "output_type": "execute_result",
          "data": {
            "text/plain": [
              "0"
            ]
          },
          "metadata": {},
          "execution_count": 196
        }
      ]
    },
    {
      "cell_type": "markdown",
      "source": [
        "# **DS:2 :Tuples**\n",
        "# Tuples are not mutable\n",
        "# created using round brackets()"
      ],
      "metadata": {
        "id": "sUOiB5lVSBLU"
      }
    },
    {
      "cell_type": "code",
      "source": [
        "t1=(1,2,3,4,5)\n",
        "t1"
      ],
      "metadata": {
        "colab": {
          "base_uri": "https://localhost:8080/"
        },
        "id": "ISbjaiNdQ6zF",
        "outputId": "f7e4ad28-f1c4-4ded-98d0-420feec06c6c"
      },
      "execution_count": null,
      "outputs": [
        {
          "output_type": "execute_result",
          "data": {
            "text/plain": [
              "(1, 2, 3, 4, 5)"
            ]
          },
          "metadata": {},
          "execution_count": 197
        }
      ]
    },
    {
      "cell_type": "code",
      "source": [
        "type(t1)"
      ],
      "metadata": {
        "colab": {
          "base_uri": "https://localhost:8080/"
        },
        "id": "hDsAnwxmM8g8",
        "outputId": "db128ca1-16e1-4ef0-9a5b-4fede79b7960"
      },
      "execution_count": null,
      "outputs": [
        {
          "output_type": "execute_result",
          "data": {
            "text/plain": [
              "tuple"
            ]
          },
          "metadata": {},
          "execution_count": 198
        }
      ]
    },
    {
      "cell_type": "code",
      "source": [
        "# t1[0]=6 #error-->'tuple' object does not support item assignment"
      ],
      "metadata": {
        "id": "hgSQTv-8M8ko"
      },
      "execution_count": null,
      "outputs": []
    },
    {
      "cell_type": "code",
      "source": [
        "t3=t1+(2,3,4,5,6)\n",
        "t3"
      ],
      "metadata": {
        "colab": {
          "base_uri": "https://localhost:8080/"
        },
        "id": "rnizBZrSS0z_",
        "outputId": "dac600e8-eafc-4635-cfc3-5a271c6265ff"
      },
      "execution_count": null,
      "outputs": [
        {
          "output_type": "execute_result",
          "data": {
            "text/plain": [
              "(1, 2, 3, 4, 5, 2, 3, 4, 5, 6)"
            ]
          },
          "metadata": {},
          "execution_count": 200
        }
      ]
    },
    {
      "cell_type": "code",
      "source": [
        "t3.count(4)"
      ],
      "metadata": {
        "colab": {
          "base_uri": "https://localhost:8080/"
        },
        "id": "G8MVvzWfTetS",
        "outputId": "527bd0e1-2018-46ed-ce63-b040aada0af4"
      },
      "execution_count": null,
      "outputs": [
        {
          "output_type": "execute_result",
          "data": {
            "text/plain": [
              "2"
            ]
          },
          "metadata": {},
          "execution_count": 201
        }
      ]
    },
    {
      "cell_type": "code",
      "source": [
        "t3.index(4)"
      ],
      "metadata": {
        "colab": {
          "base_uri": "https://localhost:8080/"
        },
        "id": "XWdbZNcyTtvA",
        "outputId": "4a3c8cb2-895c-4acf-ad0b-d5a32580ea37"
      },
      "execution_count": null,
      "outputs": [
        {
          "output_type": "execute_result",
          "data": {
            "text/plain": [
              "3"
            ]
          },
          "metadata": {},
          "execution_count": 202
        }
      ]
    },
    {
      "cell_type": "code",
      "source": [
        "t1[1:5]"
      ],
      "metadata": {
        "colab": {
          "base_uri": "https://localhost:8080/"
        },
        "id": "LCXR_4EdTmbp",
        "outputId": "fdd12ff3-f247-42c3-beac-5e7b56c6cbc9"
      },
      "execution_count": null,
      "outputs": [
        {
          "output_type": "execute_result",
          "data": {
            "text/plain": [
              "(2, 3, 4, 5)"
            ]
          },
          "metadata": {},
          "execution_count": 203
        }
      ]
    },
    {
      "cell_type": "markdown",
      "source": [
        "# **DS:3:Dictionary**\n",
        "\n"
      ],
      "metadata": {
        "id": "FiPS7BMuWLWw"
      }
    },
    {
      "cell_type": "code",
      "source": [
        "cap_dict={\n",
        "    'Nepal':'Kathmandu',\n",
        "    'Italy':'Rome',\n",
        "    'England':'London'\n",
        "}\n",
        "cap_dict"
      ],
      "metadata": {
        "colab": {
          "base_uri": "https://localhost:8080/"
        },
        "id": "DYEDUio9T15n",
        "outputId": "f6a39a2a-5c0d-4e4d-bb45-7980f8d5db09"
      },
      "execution_count": null,
      "outputs": [
        {
          "output_type": "execute_result",
          "data": {
            "text/plain": [
              "{'Nepal': 'Kathmandu', 'Italy': 'Rome', 'England': 'London'}"
            ]
          },
          "metadata": {},
          "execution_count": 204
        }
      ]
    },
    {
      "cell_type": "code",
      "source": [
        "type(cap_dict)"
      ],
      "metadata": {
        "colab": {
          "base_uri": "https://localhost:8080/"
        },
        "id": "aBzSCg_-Wj87",
        "outputId": "7bc0e945-33bf-4169-e187-ad76ab0c1eb7"
      },
      "execution_count": null,
      "outputs": [
        {
          "output_type": "execute_result",
          "data": {
            "text/plain": [
              "dict"
            ]
          },
          "metadata": {},
          "execution_count": 205
        }
      ]
    },
    {
      "cell_type": "code",
      "source": [
        "dir(dict)"
      ],
      "metadata": {
        "id": "nWeGF6yrWk3J",
        "colab": {
          "base_uri": "https://localhost:8080/"
        },
        "outputId": "75f3c8b0-7d12-41f7-ada8-a642a658d159"
      },
      "execution_count": null,
      "outputs": [
        {
          "output_type": "execute_result",
          "data": {
            "text/plain": [
              "['__class__',\n",
              " '__class_getitem__',\n",
              " '__contains__',\n",
              " '__delattr__',\n",
              " '__delitem__',\n",
              " '__dir__',\n",
              " '__doc__',\n",
              " '__eq__',\n",
              " '__format__',\n",
              " '__ge__',\n",
              " '__getattribute__',\n",
              " '__getitem__',\n",
              " '__gt__',\n",
              " '__hash__',\n",
              " '__init__',\n",
              " '__init_subclass__',\n",
              " '__ior__',\n",
              " '__iter__',\n",
              " '__le__',\n",
              " '__len__',\n",
              " '__lt__',\n",
              " '__ne__',\n",
              " '__new__',\n",
              " '__or__',\n",
              " '__reduce__',\n",
              " '__reduce_ex__',\n",
              " '__repr__',\n",
              " '__reversed__',\n",
              " '__ror__',\n",
              " '__setattr__',\n",
              " '__setitem__',\n",
              " '__sizeof__',\n",
              " '__str__',\n",
              " '__subclasshook__',\n",
              " 'clear',\n",
              " 'copy',\n",
              " 'fromkeys',\n",
              " 'get',\n",
              " 'items',\n",
              " 'keys',\n",
              " 'pop',\n",
              " 'popitem',\n",
              " 'setdefault',\n",
              " 'update',\n",
              " 'values']"
            ]
          },
          "metadata": {},
          "execution_count": 206
        }
      ]
    },
    {
      "cell_type": "code",
      "source": [
        "cap_dict[\"England\"].upper()"
      ],
      "metadata": {
        "id": "dhXNJ1JlWle5",
        "colab": {
          "base_uri": "https://localhost:8080/",
          "height": 36
        },
        "outputId": "3d9329e4-1d45-4ab1-e699-c45d0966310e"
      },
      "execution_count": null,
      "outputs": [
        {
          "output_type": "execute_result",
          "data": {
            "text/plain": [
              "'LONDON'"
            ],
            "application/vnd.google.colaboratory.intrinsic+json": {
              "type": "string"
            }
          },
          "metadata": {},
          "execution_count": 207
        }
      ]
    },
    {
      "cell_type": "code",
      "source": [
        "cap_dict.keys()"
      ],
      "metadata": {
        "id": "YaSGpP5hWlZi",
        "colab": {
          "base_uri": "https://localhost:8080/"
        },
        "outputId": "3e27e562-9f5a-40e0-e9bf-a43be9fca937"
      },
      "execution_count": null,
      "outputs": [
        {
          "output_type": "execute_result",
          "data": {
            "text/plain": [
              "dict_keys(['Nepal', 'Italy', 'England'])"
            ]
          },
          "metadata": {},
          "execution_count": 208
        }
      ]
    },
    {
      "cell_type": "code",
      "source": [
        "cap_dict.values()"
      ],
      "metadata": {
        "id": "PblTwOylWlji",
        "colab": {
          "base_uri": "https://localhost:8080/"
        },
        "outputId": "c2329210-0fe4-4caa-e352-ad7de3b4d5c6"
      },
      "execution_count": null,
      "outputs": [
        {
          "output_type": "execute_result",
          "data": {
            "text/plain": [
              "dict_values(['Kathmandu', 'Rome', 'London'])"
            ]
          },
          "metadata": {},
          "execution_count": 209
        }
      ]
    },
    {
      "cell_type": "code",
      "source": [
        "add_cap={\n",
        "    \"India\":\"New Delhi\",\n",
        "    \"abc\":\"xyz\"\n",
        "}\n",
        "cap_dict.update(add_cap)"
      ],
      "metadata": {
        "id": "2vIRo53uWlnv"
      },
      "execution_count": null,
      "outputs": []
    },
    {
      "cell_type": "code",
      "source": [
        "cap_dict"
      ],
      "metadata": {
        "id": "R2ZdSL2QWlqZ",
        "colab": {
          "base_uri": "https://localhost:8080/"
        },
        "outputId": "c3c26018-9f38-4e71-bd13-e2750a261f7a"
      },
      "execution_count": null,
      "outputs": [
        {
          "output_type": "execute_result",
          "data": {
            "text/plain": [
              "{'Nepal': 'Kathmandu',\n",
              " 'Italy': 'Rome',\n",
              " 'England': 'London',\n",
              " 'India': 'New Delhi',\n",
              " 'abc': 'xyz'}"
            ]
          },
          "metadata": {},
          "execution_count": 211
        }
      ]
    },
    {
      "cell_type": "code",
      "source": [
        "cap_dict.update({\"Australia\":\"Sydney\"})\n",
        "cap_dict"
      ],
      "metadata": {
        "id": "SK3GLPxKWltK",
        "colab": {
          "base_uri": "https://localhost:8080/"
        },
        "outputId": "52227c69-1ddd-4257-d936-d90892386764"
      },
      "execution_count": null,
      "outputs": [
        {
          "output_type": "execute_result",
          "data": {
            "text/plain": [
              "{'Nepal': 'Kathmandu',\n",
              " 'Italy': 'Rome',\n",
              " 'England': 'London',\n",
              " 'India': 'New Delhi',\n",
              " 'abc': 'xyz',\n",
              " 'Australia': 'Sydney'}"
            ]
          },
          "metadata": {},
          "execution_count": 212
        }
      ]
    },
    {
      "cell_type": "code",
      "source": [
        "cap_dict.pop(\"abc\")"
      ],
      "metadata": {
        "id": "_37yHiosWlvU",
        "colab": {
          "base_uri": "https://localhost:8080/",
          "height": 36
        },
        "outputId": "c1344781-bc3d-46b1-db19-5e8d0f99c6ab"
      },
      "execution_count": null,
      "outputs": [
        {
          "output_type": "execute_result",
          "data": {
            "text/plain": [
              "'xyz'"
            ],
            "application/vnd.google.colaboratory.intrinsic+json": {
              "type": "string"
            }
          },
          "metadata": {},
          "execution_count": 213
        }
      ]
    },
    {
      "cell_type": "code",
      "source": [
        "cap_dict"
      ],
      "metadata": {
        "id": "U0KH2KJgWlyU",
        "colab": {
          "base_uri": "https://localhost:8080/"
        },
        "outputId": "1afbbf96-88d4-4a3e-80dc-f7c1a991c162"
      },
      "execution_count": null,
      "outputs": [
        {
          "output_type": "execute_result",
          "data": {
            "text/plain": [
              "{'Nepal': 'Kathmandu',\n",
              " 'Italy': 'Rome',\n",
              " 'England': 'London',\n",
              " 'India': 'New Delhi',\n",
              " 'Australia': 'Sydney'}"
            ]
          },
          "metadata": {},
          "execution_count": 214
        }
      ]
    },
    {
      "cell_type": "code",
      "source": [
        "cap_dict['abc']='Mumbai'"
      ],
      "metadata": {
        "id": "sxnJJyO_Wl0S"
      },
      "execution_count": null,
      "outputs": []
    },
    {
      "cell_type": "code",
      "source": [
        "cap_dict"
      ],
      "metadata": {
        "id": "dqGBlAcnWl3C",
        "colab": {
          "base_uri": "https://localhost:8080/"
        },
        "outputId": "8b320fa0-88b0-462c-f4d3-50120b64d7e4"
      },
      "execution_count": null,
      "outputs": [
        {
          "output_type": "execute_result",
          "data": {
            "text/plain": [
              "{'Nepal': 'Kathmandu',\n",
              " 'Italy': 'Rome',\n",
              " 'England': 'London',\n",
              " 'India': 'New Delhi',\n",
              " 'Australia': 'Sydney',\n",
              " 'abc': 'Mumbai'}"
            ]
          },
          "metadata": {},
          "execution_count": 216
        }
      ]
    },
    {
      "cell_type": "code",
      "source": [
        "cap_dict.popitem()"
      ],
      "metadata": {
        "id": "bAFtgsRSWl56",
        "colab": {
          "base_uri": "https://localhost:8080/"
        },
        "outputId": "8a631d59-4376-4723-abf6-0de3996e1ea8"
      },
      "execution_count": null,
      "outputs": [
        {
          "output_type": "execute_result",
          "data": {
            "text/plain": [
              "('abc', 'Mumbai')"
            ]
          },
          "metadata": {},
          "execution_count": 218
        }
      ]
    },
    {
      "cell_type": "code",
      "source": [
        "mylist=['Stawberry', 'Custard Apple', 'Pineapple', 'Banana', 'Apple', 'Mango']"
      ],
      "metadata": {
        "id": "uwfIqARmWl9D"
      },
      "execution_count": null,
      "outputs": []
    },
    {
      "cell_type": "code",
      "source": [
        "mytuple=(23,43,4,22,5,89)"
      ],
      "metadata": {
        "id": "nPFdzL3aPFxT"
      },
      "execution_count": null,
      "outputs": []
    },
    {
      "cell_type": "code",
      "source": [
        "mydict={\n",
        "    \"A\":mylist,\n",
        "    \"B\":mytuple,\n",
        "    \"C\":cap_dict\n",
        "}"
      ],
      "metadata": {
        "id": "Phz4v7qfPFz7"
      },
      "execution_count": null,
      "outputs": []
    },
    {
      "cell_type": "code",
      "source": [
        "mydict"
      ],
      "metadata": {
        "colab": {
          "base_uri": "https://localhost:8080/"
        },
        "id": "cCnzl9wkPF2r",
        "outputId": "4b92cabc-f930-4f4d-87a3-946a8b069c17"
      },
      "execution_count": null,
      "outputs": [
        {
          "output_type": "execute_result",
          "data": {
            "text/plain": [
              "{'A': ['Stawberry', 'Custard Apple', 'Pineapple', 'Banana', 'Apple', 'Mango'],\n",
              " 'B': (23, 43, 4, 22, 5, 89),\n",
              " 'C': {'Nepal': 'Kathmandu',\n",
              "  'Italy': 'Rome',\n",
              "  'England': 'London',\n",
              "  'India': 'New Delhi',\n",
              "  'Australia': 'Sydney'}}"
            ]
          },
          "metadata": {},
          "execution_count": 222
        }
      ]
    },
    {
      "cell_type": "code",
      "source": [
        "mydict[\"A\"]"
      ],
      "metadata": {
        "colab": {
          "base_uri": "https://localhost:8080/"
        },
        "id": "LFRtTMrBPF46",
        "outputId": "31433afb-382d-4579-e5b1-d873ee1790de"
      },
      "execution_count": null,
      "outputs": [
        {
          "output_type": "execute_result",
          "data": {
            "text/plain": [
              "['Stawberry', 'Custard Apple', 'Pineapple', 'Banana', 'Apple', 'Mango']"
            ]
          },
          "metadata": {},
          "execution_count": 223
        }
      ]
    },
    {
      "cell_type": "code",
      "source": [
        "mydict[\"C\"]"
      ],
      "metadata": {
        "colab": {
          "base_uri": "https://localhost:8080/"
        },
        "id": "BI1DBMWaPF7y",
        "outputId": "9b01baa6-a730-4740-cfd5-8d9a18744432"
      },
      "execution_count": null,
      "outputs": [
        {
          "output_type": "execute_result",
          "data": {
            "text/plain": [
              "{'Nepal': 'Kathmandu',\n",
              " 'Italy': 'Rome',\n",
              " 'England': 'London',\n",
              " 'India': 'New Delhi',\n",
              " 'Australia': 'Sydney'}"
            ]
          },
          "metadata": {},
          "execution_count": 224
        }
      ]
    },
    {
      "cell_type": "code",
      "source": [
        "mydict[\"A\"][3]"
      ],
      "metadata": {
        "colab": {
          "base_uri": "https://localhost:8080/",
          "height": 36
        },
        "id": "HA_Kw8NtPF-E",
        "outputId": "0f098a88-8b02-4b0a-9574-36e41a4afd69"
      },
      "execution_count": null,
      "outputs": [
        {
          "output_type": "execute_result",
          "data": {
            "text/plain": [
              "'Banana'"
            ],
            "application/vnd.google.colaboratory.intrinsic+json": {
              "type": "string"
            }
          },
          "metadata": {},
          "execution_count": 225
        }
      ]
    },
    {
      "cell_type": "code",
      "source": [
        "mydict[\"C\"]['India']"
      ],
      "metadata": {
        "colab": {
          "base_uri": "https://localhost:8080/",
          "height": 36
        },
        "id": "TWj97WZ5PGBr",
        "outputId": "4872ff33-e5d5-4efb-cec7-9582947dc05a"
      },
      "execution_count": null,
      "outputs": [
        {
          "output_type": "execute_result",
          "data": {
            "text/plain": [
              "'New Delhi'"
            ],
            "application/vnd.google.colaboratory.intrinsic+json": {
              "type": "string"
            }
          },
          "metadata": {},
          "execution_count": 226
        }
      ]
    },
    {
      "cell_type": "code",
      "source": [],
      "metadata": {
        "colab": {
          "base_uri": "https://localhost:8080/",
          "height": 169
        },
        "id": "FMNOwoNxRCx4",
        "outputId": "ce8d3fc5-2480-47a8-be1a-332b3062c747"
      },
      "execution_count": null,
      "outputs": [
        {
          "output_type": "error",
          "ename": "NameError",
          "evalue": "ignored",
          "traceback": [
            "\u001b[0;31m---------------------------------------------------------------------------\u001b[0m",
            "\u001b[0;31mNameError\u001b[0m                                 Traceback (most recent call last)",
            "\u001b[0;32m<ipython-input-227-1bf613b64533>\u001b[0m in \u001b[0;36m<cell line: 1>\u001b[0;34m()\u001b[0m\n\u001b[0;32m----> 1\u001b[0;31m \u001b[0msqrt\u001b[0m\u001b[0;34m(\u001b[0m\u001b[0;36m25\u001b[0m\u001b[0;34m)\u001b[0m\u001b[0;34m\u001b[0m\u001b[0;34m\u001b[0m\u001b[0m\n\u001b[0m",
            "\u001b[0;31mNameError\u001b[0m: name 'sqrt' is not defined"
          ]
        }
      ]
    },
    {
      "cell_type": "code",
      "source": [
        "from math import sqrt\n",
        "sqrt(25)"
      ],
      "metadata": {
        "colab": {
          "base_uri": "https://localhost:8080/"
        },
        "id": "KBNvNUMTRC0e",
        "outputId": "1ecd0ec5-7c8f-487d-8e90-91a0e409a27f"
      },
      "execution_count": null,
      "outputs": [
        {
          "output_type": "execute_result",
          "data": {
            "text/plain": [
              "5.0"
            ]
          },
          "metadata": {},
          "execution_count": 228
        }
      ]
    },
    {
      "cell_type": "code",
      "source": [
        "from math import factorial\n",
        "factorial(5)"
      ],
      "metadata": {
        "colab": {
          "base_uri": "https://localhost:8080/"
        },
        "id": "F_tgRXXGRC3B",
        "outputId": "33bcc30e-5a20-4f27-e1a1-c44230a5ca1c"
      },
      "execution_count": null,
      "outputs": [
        {
          "output_type": "execute_result",
          "data": {
            "text/plain": [
              "120"
            ]
          },
          "metadata": {},
          "execution_count": 231
        }
      ]
    },
    {
      "cell_type": "code",
      "source": [
        "from math import sin\n",
        "sin(90)"
      ],
      "metadata": {
        "colab": {
          "base_uri": "https://localhost:8080/"
        },
        "id": "SwvQI3wHRC6A",
        "outputId": "6e4530d7-234e-4522-b73d-b0d4cdea8d2b"
      },
      "execution_count": null,
      "outputs": [
        {
          "output_type": "execute_result",
          "data": {
            "text/plain": [
              "0.8939966636005579"
            ]
          },
          "metadata": {},
          "execution_count": 233
        }
      ]
    },
    {
      "cell_type": "code",
      "source": [
        "import math\n",
        "math.cos(90)"
      ],
      "metadata": {
        "colab": {
          "base_uri": "https://localhost:8080/"
        },
        "id": "Myogt6OSRC8f",
        "outputId": "34455c2d-0d84-4ae5-835b-b2dcf76e21d2"
      },
      "execution_count": null,
      "outputs": [
        {
          "output_type": "execute_result",
          "data": {
            "text/plain": [
              "-0.4480736161291701"
            ]
          },
          "metadata": {},
          "execution_count": 238
        }
      ]
    },
    {
      "cell_type": "code",
      "source": [
        "math.tan(90)"
      ],
      "metadata": {
        "colab": {
          "base_uri": "https://localhost:8080/"
        },
        "id": "ewe6OTYhRC_c",
        "outputId": "609655ba-73ff-48c0-f055-a0357a370507"
      },
      "execution_count": null,
      "outputs": [
        {
          "output_type": "execute_result",
          "data": {
            "text/plain": [
              "-1.995200412208242"
            ]
          },
          "metadata": {},
          "execution_count": 237
        }
      ]
    },
    {
      "cell_type": "code",
      "source": [
        "from math import *\n",
        "tan(78)"
      ],
      "metadata": {
        "colab": {
          "base_uri": "https://localhost:8080/"
        },
        "id": "yd-BdEplRDCW",
        "outputId": "30b58685-c772-4aa0-a8bc-17c7dd6f908d"
      },
      "execution_count": null,
      "outputs": [
        {
          "output_type": "execute_result",
          "data": {
            "text/plain": [
              "-0.5991799983411151"
            ]
          },
          "metadata": {},
          "execution_count": 241
        }
      ]
    },
    {
      "cell_type": "code",
      "source": [
        "prod([2,4,5])"
      ],
      "metadata": {
        "colab": {
          "base_uri": "https://localhost:8080/"
        },
        "id": "GwMhgc7_RDFo",
        "outputId": "1c7ec117-a904-4744-f093-afb390fc441b"
      },
      "execution_count": null,
      "outputs": [
        {
          "output_type": "execute_result",
          "data": {
            "text/plain": [
              "40"
            ]
          },
          "metadata": {},
          "execution_count": 242
        }
      ]
    },
    {
      "cell_type": "code",
      "source": [
        "prod((2,4,5))"
      ],
      "metadata": {
        "colab": {
          "base_uri": "https://localhost:8080/"
        },
        "id": "kmICJQKARDH9",
        "outputId": "f5ba0897-2fa0-40ea-b4d5-abb581373454"
      },
      "execution_count": null,
      "outputs": [
        {
          "output_type": "execute_result",
          "data": {
            "text/plain": [
              "40"
            ]
          },
          "metadata": {},
          "execution_count": 244
        }
      ]
    },
    {
      "cell_type": "code",
      "source": [
        "prod({2,4,5})"
      ],
      "metadata": {
        "colab": {
          "base_uri": "https://localhost:8080/"
        },
        "id": "_CN57SgmRDLK",
        "outputId": "a3fefb54-4bac-404f-a2eb-0c999f68e6b7"
      },
      "execution_count": null,
      "outputs": [
        {
          "output_type": "execute_result",
          "data": {
            "text/plain": [
              "40"
            ]
          },
          "metadata": {},
          "execution_count": 245
        }
      ]
    },
    {
      "cell_type": "code",
      "source": [],
      "metadata": {
        "id": "SvRetFT1WBOy"
      },
      "execution_count": null,
      "outputs": []
    },
    {
      "cell_type": "code",
      "source": [],
      "metadata": {
        "id": "sEiM4kEXWBRt"
      },
      "execution_count": null,
      "outputs": []
    },
    {
      "cell_type": "code",
      "source": [],
      "metadata": {
        "id": "I2S_1OBUWBUq"
      },
      "execution_count": null,
      "outputs": []
    },
    {
      "cell_type": "code",
      "source": [],
      "metadata": {
        "id": "kvRt13JxWBXj"
      },
      "execution_count": null,
      "outputs": []
    },
    {
      "cell_type": "code",
      "source": [],
      "metadata": {
        "id": "wNk1DpEtWBbA"
      },
      "execution_count": null,
      "outputs": []
    }
  ]
}