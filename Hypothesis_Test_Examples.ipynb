{
  "nbformat": 4,
  "nbformat_minor": 0,
  "metadata": {
    "colab": {
      "provenance": [],
      "authorship_tag": "ABX9TyOaqejp7NuNsZMPCjVsqE1y",
      "include_colab_link": true
    },
    "kernelspec": {
      "name": "python3",
      "display_name": "Python 3"
    },
    "language_info": {
      "name": "python"
    }
  },
  "cells": [
    {
      "cell_type": "markdown",
      "metadata": {
        "id": "view-in-github",
        "colab_type": "text"
      },
      "source": [
        "<a href=\"https://colab.research.google.com/github/CM-007/pythonCode_DS/blob/main/Hypothesis_Test_Examples.ipynb\" target=\"_parent\"><img src=\"https://colab.research.google.com/assets/colab-badge.svg\" alt=\"Open In Colab\"/></a>"
      ]
    },
    {
      "cell_type": "markdown",
      "source": [
        "# **Import the libraries**"
      ],
      "metadata": {
        "id": "TNo4P9y5Rjob"
      }
    },
    {
      "cell_type": "code",
      "execution_count": 1,
      "metadata": {
        "id": "Iofi1IjCRLA_"
      },
      "outputs": [],
      "source": [
        "import pandas as pd\n",
        "import numpy as np\n",
        "from scipy import stats"
      ]
    },
    {
      "cell_type": "markdown",
      "source": [
        "# Super market example"
      ],
      "metadata": {
        "id": "sTYKvzSiRrro"
      }
    },
    {
      "cell_type": "markdown",
      "source": [
        "x=130\n",
        "n=80\n",
        "s=40\n",
        "u=180--population mean\n",
        "\n",
        "1>\n",
        "Ho: u<= 120\n",
        "\n",
        "H1: u>120\n",
        "\n",
        "2>\n",
        "t value =2.23\n",
        "\n",
        "3>\n",
        "alpha = 0.05\n",
        "\n",
        "4>\n",
        "p-value\n",
        "\n",
        "5>\n",
        "compaire aplha and p-value\n",
        "\n",
        "**1 sample 1 tail Test**\n"
      ],
      "metadata": {
        "id": "SIoz65IHR0bi"
      }
    },
    {
      "cell_type": "code",
      "source": [
        "#1-stats.t.cdf(t-value=2.23,df=79)\n",
        "p=1-stats.t.cdf(2.23,df=79)\n",
        "print(\"P -  value :\",round(p,4))"
      ],
      "metadata": {
        "colab": {
          "base_uri": "https://localhost:8080/"
        },
        "id": "K8a4orDVRpf-",
        "outputId": "ef6656a8-3431-4495-ae67-a8b19ed20ecc"
      },
      "execution_count": 5,
      "outputs": [
        {
          "output_type": "stream",
          "name": "stdout",
          "text": [
            "P -  value : 0.0143\n"
          ]
        }
      ]
    },
    {
      "cell_type": "markdown",
      "source": [
        "# **Call Center Example**"
      ],
      "metadata": {
        "id": "zpBdepzNTRwu"
      }
    },
    {
      "cell_type": "markdown",
      "source": [
        "**1 sample 2 tail**"
      ],
      "metadata": {
        "id": "X46c9Hn9TVq7"
      }
    },
    {
      "cell_type": "markdown",
      "source": [
        "u=4,s=3,x=4.6,n=50,\n",
        "\n",
        "Ho: u=4,\n",
        "H1: u!=4,\n",
        "\n",
        "t-value= (x-u)/(s-sqrt(n))\n",
        "\n"
      ],
      "metadata": {
        "id": "6osjNIJMVuEb"
      }
    },
    {
      "cell_type": "code",
      "source": [
        "t=(4.6-4)/(3/np.sqrt(50))\n",
        "print(\"T - value :\",round(t,1))"
      ],
      "metadata": {
        "colab": {
          "base_uri": "https://localhost:8080/"
        },
        "id": "FkgmQtrRWbkf",
        "outputId": "e2def9f0-51f5-4918-f18f-3d1de27f506a"
      },
      "execution_count": 20,
      "outputs": [
        {
          "output_type": "stream",
          "name": "stdout",
          "text": [
            "T - value : 1.4\n"
          ]
        }
      ]
    },
    {
      "cell_type": "code",
      "source": [
        "p=2*stats.t.cdf(-1.4,df=49)\n",
        "print(\"P-value :\",round(p,4))"
      ],
      "metadata": {
        "colab": {
          "base_uri": "https://localhost:8080/"
        },
        "id": "CKzj2DqwTJqF",
        "outputId": "5a095319-d9ab-4112-d674-bb35ea048c2f"
      },
      "execution_count": 15,
      "outputs": [
        {
          "output_type": "stream",
          "name": "stdout",
          "text": [
            "P-value : 0.1678\n"
          ]
        }
      ]
    },
    {
      "cell_type": "markdown",
      "source": [
        "#**Ice Cream factory example**\n",
        "**1 sample 1 Tail**"
      ],
      "metadata": {
        "id": "4hNM1Gh5W6MP"
      }
    },
    {
      "cell_type": "code",
      "source": [
        "import pandas as pd\n",
        "from scipy import stats\n",
        "\n",
        "data =pd.Series([0.593,0.142,0.329,0.691,0.231,0.793,0.519,0.392,0.418])\n",
        "data"
      ],
      "metadata": {
        "colab": {
          "base_uri": "https://localhost:8080/"
        },
        "id": "4N7hiemsXGfS",
        "outputId": "e90ad43f-d4a1-4eb4-9931-b854a9ed77d2"
      },
      "execution_count": 22,
      "outputs": [
        {
          "output_type": "execute_result",
          "data": {
            "text/plain": [
              "0    0.593\n",
              "1    0.142\n",
              "2    0.329\n",
              "3    0.691\n",
              "4    0.231\n",
              "5    0.793\n",
              "6    0.519\n",
              "7    0.392\n",
              "8    0.418\n",
              "dtype: float64"
            ]
          },
          "metadata": {},
          "execution_count": 22
        }
      ]
    },
    {
      "cell_type": "code",
      "source": [
        "#stats.ttest_1samp(data,u=0.3)\n",
        "stats.ttest_1samp(data,0.3)\n",
        "# always give 2 tail p-value"
      ],
      "metadata": {
        "colab": {
          "base_uri": "https://localhost:8080/"
        },
        "id": "uXoSzpwqX0uk",
        "outputId": "32db0768-3ff5-4476-e4cb-0dbb2f32e573"
      },
      "execution_count": 23,
      "outputs": [
        {
          "output_type": "execute_result",
          "data": {
            "text/plain": [
              "TtestResult(statistic=2.2050588385131595, pvalue=0.05853032968489765, df=8)"
            ]
          },
          "metadata": {},
          "execution_count": 23
        }
      ]
    },
    {
      "cell_type": "code",
      "source": [
        "p=stats.ttest_1samp(data,0.3)[1]\n",
        "p"
      ],
      "metadata": {
        "colab": {
          "base_uri": "https://localhost:8080/"
        },
        "id": "NcXj4uWkX0x7",
        "outputId": "27d7ea5e-ec64-4007-b18b-d0f7ac758eb1"
      },
      "execution_count": 25,
      "outputs": [
        {
          "output_type": "execute_result",
          "data": {
            "text/plain": [
              "0.05853032968489765"
            ]
          },
          "metadata": {},
          "execution_count": 25
        }
      ]
    },
    {
      "cell_type": "code",
      "source": [
        "p_value=p/2\n",
        "print(round(p_value,4))"
      ],
      "metadata": {
        "colab": {
          "base_uri": "https://localhost:8080/"
        },
        "id": "dgNiFF_uZnle",
        "outputId": "7f143478-15ce-4309-bb65-a518eb8c3fec"
      },
      "execution_count": 28,
      "outputs": [
        {
          "output_type": "stream",
          "name": "stdout",
          "text": [
            "0.0293\n"
          ]
        }
      ]
    },
    {
      "cell_type": "markdown",
      "source": [
        "# **2 Sample 2 tail**"
      ],
      "metadata": {
        "id": "DIygbZxraSaH"
      }
    },
    {
      "cell_type": "code",
      "source": [
        "Control =pd.Series([91,87,99,77,88,91])\n",
        "Treat =pd.Series([101,110,103,93,99,104])"
      ],
      "metadata": {
        "id": "5OYoEFQQaav3"
      },
      "execution_count": 29,
      "outputs": []
    },
    {
      "cell_type": "code",
      "source": [
        "stats.ttest_ind(Control,Treat) #2 tail independent"
      ],
      "metadata": {
        "colab": {
          "base_uri": "https://localhost:8080/"
        },
        "id": "uB6rccOBayX1",
        "outputId": "c98253d1-7116-43c8-b469-fe03950a21c8"
      },
      "execution_count": 30,
      "outputs": [
        {
          "output_type": "execute_result",
          "data": {
            "text/plain": [
              "Ttest_indResult(statistic=-3.4456126735364876, pvalue=0.006272124350809803)"
            ]
          },
          "metadata": {},
          "execution_count": 30
        }
      ]
    },
    {
      "cell_type": "markdown",
      "source": [
        "# 2 **Proportion Test**"
      ],
      "metadata": {
        "id": "Gs-yt-mHbmK0"
      }
    },
    {
      "cell_type": "code",
      "source": [
        "# Placment data example\n",
        "n1=247\n",
        "p1=.37 #proportion is 0.37\n",
        "\n",
        "n2=308\n",
        "p2=.39 #proportion is 0.39"
      ],
      "metadata": {
        "id": "DJvb2PDPbvDO"
      },
      "execution_count": 37,
      "outputs": []
    },
    {
      "cell_type": "code",
      "source": [
        "#randomly generate data\n",
        "# Binomial - 1 or 0\n",
        "pop1=np.random.binomial(1,p1,n1)\n",
        "pop2=np.random.binomial(1,p2,n2)"
      ],
      "metadata": {
        "id": "Lj4LKU22cFQb"
      },
      "execution_count": 38,
      "outputs": []
    },
    {
      "cell_type": "code",
      "source": [
        "# 0 - is not placed\n",
        "# 1 - is placed\n",
        "print(pop1)\n",
        "print(pop2)"
      ],
      "metadata": {
        "colab": {
          "base_uri": "https://localhost:8080/"
        },
        "id": "aey-724qicTe",
        "outputId": "98a89572-31f5-4121-b92b-3617e03c3024"
      },
      "execution_count": 39,
      "outputs": [
        {
          "output_type": "stream",
          "name": "stdout",
          "text": [
            "[0 0 1 1 0 1 0 0 1 1 0 0 0 0 1 0 0 0 1 0 0 0 0 0 0 0 1 1 0 0 1 1 0 0 1 0 1\n",
            " 0 0 1 0 0 0 1 1 0 0 1 1 0 0 1 0 0 0 0 0 0 0 0 0 0 0 0 1 1 1 0 0 0 1 1 0 0\n",
            " 0 1 1 0 1 0 0 0 1 0 0 0 0 0 0 1 1 1 0 1 0 1 0 1 0 0 0 0 0 0 1 0 0 0 0 1 1\n",
            " 0 0 0 0 0 0 1 1 0 1 0 0 1 0 0 1 1 0 1 0 1 0 0 0 0 0 0 1 0 0 1 0 0 1 0 1 0\n",
            " 0 0 0 0 0 1 1 0 0 1 1 0 0 1 0 0 0 0 0 1 0 0 1 0 0 0 1 0 0 1 0 1 0 0 0 0 0\n",
            " 1 0 0 0 1 1 1 1 0 0 0 0 0 0 1 0 0 1 0 1 0 0 0 0 0 0 0 0 0 0 0 0 1 1 0 0 0\n",
            " 0 0 0 0 0 0 0 1 0 0 1 0 0 0 0 1 0 0 0 0 0 0 1 0 0]\n",
            "[0 0 0 0 0 1 0 1 0 0 0 0 1 0 0 1 1 0 0 0 0 1 1 1 0 1 1 1 0 0 1 0 0 0 0 0 0\n",
            " 0 1 0 0 1 1 0 1 1 0 0 0 0 0 0 1 1 0 1 0 0 1 0 0 1 0 1 0 0 0 0 0 1 0 0 0 0\n",
            " 0 0 0 1 1 0 1 0 0 0 0 1 0 0 1 0 1 1 0 0 1 0 1 1 0 1 1 1 1 1 0 0 0 0 1 0 1\n",
            " 1 0 0 1 0 0 1 1 0 0 0 0 1 1 0 1 1 0 1 1 0 1 1 0 0 1 1 0 1 1 0 0 1 0 0 0 0\n",
            " 0 0 1 0 1 0 0 1 1 0 1 0 1 0 0 1 0 0 0 1 1 0 0 0 0 1 1 0 1 0 0 1 1 0 1 0 0\n",
            " 0 0 0 0 0 0 0 0 0 1 0 0 0 0 0 1 1 0 0 0 0 1 0 0 1 0 1 0 0 0 0 1 1 0 0 1 1\n",
            " 1 0 0 1 0 0 0 0 0 1 1 0 0 0 0 0 1 0 1 0 0 1 0 0 0 0 0 0 0 0 0 1 0 0 1 0 0\n",
            " 1 1 0 1 0 0 1 0 0 0 0 0 0 0 1 0 1 0 0 1 0 0 0 0 0 0 1 1 1 1 0 0 1 1 0 0 0\n",
            " 0 0 0 0 0 0 0 1 1 1 1 1]\n"
          ]
        }
      ]
    },
    {
      "cell_type": "code",
      "source": [
        "import statsmodels.api as sm\n",
        "p=sm.stats.ttest_ind(pop1,pop2)[1]"
      ],
      "metadata": {
        "id": "_ZPKRQCei_5Q"
      },
      "execution_count": 49,
      "outputs": []
    },
    {
      "cell_type": "code",
      "source": [
        "a=0.05\n",
        "\n",
        "if p > a :\n",
        "  print(f'Accept null hypothesis....')\n",
        "else:\n",
        "  print(f'Fail to reject the null hypothesis...')\n"
      ],
      "metadata": {
        "colab": {
          "base_uri": "https://localhost:8080/"
        },
        "id": "j-6sBBaej2oT",
        "outputId": "22128a10-bb4e-43ef-a729-eb4dbc2b81d1"
      },
      "execution_count": 50,
      "outputs": [
        {
          "output_type": "stream",
          "name": "stdout",
          "text": [
            "Accept null hypothesis....\n"
          ]
        }
      ]
    }
  ]
}