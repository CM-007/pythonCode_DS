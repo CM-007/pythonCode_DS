{
  "nbformat": 4,
  "nbformat_minor": 0,
  "metadata": {
    "colab": {
      "provenance": [],
      "private_outputs": true,
      "gpuType": "T4",
      "authorship_tag": "ABX9TyPvxBqlkhAVt54cAF/UTmgS",
      "include_colab_link": true
    },
    "kernelspec": {
      "name": "python3",
      "display_name": "Python 3"
    },
    "language_info": {
      "name": "python"
    },
    "accelerator": "GPU"
  },
  "cells": [
    {
      "cell_type": "markdown",
      "metadata": {
        "id": "view-in-github",
        "colab_type": "text"
      },
      "source": [
        "<a href=\"https://colab.research.google.com/github/CM-007/pythonCode_DS/blob/main/python_practice_pandas_attribute.ipynb\" target=\"_parent\"><img src=\"https://colab.research.google.com/assets/colab-badge.svg\" alt=\"Open In Colab\"/></a>"
      ]
    },
    {
      "cell_type": "markdown",
      "source": [
        "## **Python Pandas Practice**"
      ],
      "metadata": {
        "id": "_uRTcaOagGHi"
      }
    },
    {
      "cell_type": "code",
      "source": [
        "import pandas as pd"
      ],
      "metadata": {
        "id": "_WXXvruMgTOq"
      },
      "execution_count": null,
      "outputs": []
    },
    {
      "cell_type": "code",
      "source": [
        "# Rread csv file\n",
        "df= pd.read_csv(\"/content/Salaries.csv\")"
      ],
      "metadata": {
        "id": "YJmxpeDWh6cr"
      },
      "execution_count": null,
      "outputs": []
    },
    {
      "cell_type": "code",
      "source": [
        "# List first 5 records\n",
        "df.head()"
      ],
      "metadata": {
        "id": "ouVStMjpiE-Q"
      },
      "execution_count": null,
      "outputs": []
    },
    {
      "cell_type": "code",
      "source": [
        "# List first n(3,10,20,50) number of records\n",
        "df.head(3)\n",
        "# df.head(10)\n",
        "# df.head(20)\n",
        "# df.head(50)"
      ],
      "metadata": {
        "id": "QsszFbvuouDA"
      },
      "execution_count": null,
      "outputs": []
    },
    {
      "cell_type": "markdown",
      "source": [
        "Data frame attributes\n"
      ],
      "metadata": {
        "id": "Z67TVKEa77jC"
      }
    },
    {
      "cell_type": "code",
      "source": [
        "# data type in pandas\n",
        "#list data type of columns\n",
        "df.dtypes"
      ],
      "metadata": {
        "id": "CAybvlAJ-FtT"
      },
      "execution_count": null,
      "outputs": []
    },
    {
      "cell_type": "code",
      "source": [
        "df.columns #privide all column names in DF"
      ],
      "metadata": {
        "id": "86R3HEo47bR0"
      },
      "execution_count": null,
      "outputs": []
    },
    {
      "cell_type": "code",
      "source": [
        "df.axes #show all columns + start and end point"
      ],
      "metadata": {
        "id": "4AGzLFDK8Nf2"
      },
      "execution_count": null,
      "outputs": []
    },
    {
      "cell_type": "code",
      "source": [
        "df.ndim #dimension of data"
      ],
      "metadata": {
        "id": "fy_uuO4K8hL-"
      },
      "execution_count": null,
      "outputs": []
    },
    {
      "cell_type": "code",
      "source": [
        "df.size #number of elemnts in df"
      ],
      "metadata": {
        "id": "ZbIC261l8oWE"
      },
      "execution_count": null,
      "outputs": []
    },
    {
      "cell_type": "code",
      "source": [
        "df.shape #return dimansion as a tuple"
      ],
      "metadata": {
        "id": "Xz_v1dWc8xUU"
      },
      "execution_count": null,
      "outputs": []
    },
    {
      "cell_type": "code",
      "source": [
        "df.values # show array of df"
      ],
      "metadata": {
        "id": "2IeDrxKE8-kV"
      },
      "execution_count": null,
      "outputs": []
    }
  ]
}