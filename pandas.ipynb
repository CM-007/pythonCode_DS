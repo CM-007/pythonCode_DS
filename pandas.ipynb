{
 "cells": [
  {
   "cell_type": "markdown",
   "id": "565a0c96",
   "metadata": {},
   "source": [
    "# Importing Libraries"
   ]
  },
  {
   "cell_type": "code",
   "execution_count": 2,
   "id": "d5566d43",
   "metadata": {},
   "outputs": [],
   "source": [
    "import pandas as pd\n",
    "import numpy as np"
   ]
  },
  {
   "cell_type": "raw",
   "id": "08f2cc68",
   "metadata": {},
   "source": [
    "##series and dataFrame\n",
    "\n",
    "    A pandas series is a one-dimensional data structure that comprises of a key-value pair. It is similar to a python dictionary, except it provides more freedom to manipulate and edit the data. To initialize a series, \n",
    "    use- pd.Series()\n",
    "\n",
    "    A pandas dataframe is a two-dimensional data-structure that can be thought of as a spreadsheet. A dataframe can also be thought of as a combination of two or more series. To initialize a dataframe, \n",
    "    use- pd.DataFrame"
   ]
  },
  {
   "cell_type": "code",
   "execution_count": 8,
   "id": "3de17b12",
   "metadata": {},
   "outputs": [
    {
     "data": {
      "text/plain": [
       "0     0.326251\n",
       "1     0.486343\n",
       "2     0.063461\n",
       "3     0.748615\n",
       "4     0.773158\n",
       "5     0.912762\n",
       "6     0.111712\n",
       "7     0.376102\n",
       "8     0.337058\n",
       "9     0.125772\n",
       "10    0.088443\n",
       "11    0.009658\n",
       "12    0.948279\n",
       "13    0.372609\n",
       "14    0.431725\n",
       "15    0.408063\n",
       "16    0.735983\n",
       "17    0.936040\n",
       "18    0.914336\n",
       "19    0.235877\n",
       "20    0.307034\n",
       "21    0.817758\n",
       "22    0.165829\n",
       "23    0.573828\n",
       "24    0.469836\n",
       "25    0.382117\n",
       "26    0.496736\n",
       "27    0.128373\n",
       "28    0.514780\n",
       "29    0.633838\n",
       "dtype: float64"
      ]
     },
     "execution_count": 8,
     "metadata": {},
     "output_type": "execute_result"
    }
   ],
   "source": [
    "ser = pd.Series(np.random.rand(30))\n",
    "ser"
   ]
  },
  {
   "cell_type": "code",
   "execution_count": 10,
   "id": "cfdc0a4b",
   "metadata": {},
   "outputs": [
    {
     "data": {
      "text/plain": [
       "pandas.core.series.Series"
      ]
     },
     "execution_count": 10,
     "metadata": {},
     "output_type": "execute_result"
    }
   ],
   "source": [
    "type(ser)"
   ]
  },
  {
   "cell_type": "code",
   "execution_count": 12,
   "id": "97a0ebac",
   "metadata": {},
   "outputs": [
    {
     "data": {
      "text/html": [
       "<div>\n",
       "<style scoped>\n",
       "    .dataframe tbody tr th:only-of-type {\n",
       "        vertical-align: middle;\n",
       "    }\n",
       "\n",
       "    .dataframe tbody tr th {\n",
       "        vertical-align: top;\n",
       "    }\n",
       "\n",
       "    .dataframe thead th {\n",
       "        text-align: right;\n",
       "    }\n",
       "</style>\n",
       "<table border=\"1\" class=\"dataframe\">\n",
       "  <thead>\n",
       "    <tr style=\"text-align: right;\">\n",
       "      <th></th>\n",
       "      <th>0</th>\n",
       "      <th>1</th>\n",
       "      <th>2</th>\n",
       "      <th>3</th>\n",
       "      <th>4</th>\n",
       "      <th>5</th>\n",
       "    </tr>\n",
       "  </thead>\n",
       "  <tbody>\n",
       "    <tr>\n",
       "      <th>0</th>\n",
       "      <td>0.545579</td>\n",
       "      <td>0.347931</td>\n",
       "      <td>0.525657</td>\n",
       "      <td>0.336868</td>\n",
       "      <td>0.142682</td>\n",
       "      <td>0.202976</td>\n",
       "    </tr>\n",
       "    <tr>\n",
       "      <th>1</th>\n",
       "      <td>0.990999</td>\n",
       "      <td>0.200749</td>\n",
       "      <td>0.647512</td>\n",
       "      <td>0.449511</td>\n",
       "      <td>0.975153</td>\n",
       "      <td>0.683181</td>\n",
       "    </tr>\n",
       "    <tr>\n",
       "      <th>2</th>\n",
       "      <td>0.021881</td>\n",
       "      <td>0.276406</td>\n",
       "      <td>0.819138</td>\n",
       "      <td>0.203921</td>\n",
       "      <td>0.196163</td>\n",
       "      <td>0.082591</td>\n",
       "    </tr>\n",
       "    <tr>\n",
       "      <th>3</th>\n",
       "      <td>0.634794</td>\n",
       "      <td>0.807164</td>\n",
       "      <td>0.238600</td>\n",
       "      <td>0.121842</td>\n",
       "      <td>0.233556</td>\n",
       "      <td>0.988487</td>\n",
       "    </tr>\n",
       "    <tr>\n",
       "      <th>4</th>\n",
       "      <td>0.643244</td>\n",
       "      <td>0.770679</td>\n",
       "      <td>0.464878</td>\n",
       "      <td>0.649428</td>\n",
       "      <td>0.575142</td>\n",
       "      <td>0.652470</td>\n",
       "    </tr>\n",
       "    <tr>\n",
       "      <th>...</th>\n",
       "      <td>...</td>\n",
       "      <td>...</td>\n",
       "      <td>...</td>\n",
       "      <td>...</td>\n",
       "      <td>...</td>\n",
       "      <td>...</td>\n",
       "    </tr>\n",
       "    <tr>\n",
       "      <th>295</th>\n",
       "      <td>0.049066</td>\n",
       "      <td>0.685780</td>\n",
       "      <td>0.605838</td>\n",
       "      <td>0.838890</td>\n",
       "      <td>0.476481</td>\n",
       "      <td>0.638363</td>\n",
       "    </tr>\n",
       "    <tr>\n",
       "      <th>296</th>\n",
       "      <td>0.049769</td>\n",
       "      <td>0.599545</td>\n",
       "      <td>0.998941</td>\n",
       "      <td>0.456150</td>\n",
       "      <td>0.906415</td>\n",
       "      <td>0.214843</td>\n",
       "    </tr>\n",
       "    <tr>\n",
       "      <th>297</th>\n",
       "      <td>0.132586</td>\n",
       "      <td>0.650838</td>\n",
       "      <td>0.777211</td>\n",
       "      <td>0.516814</td>\n",
       "      <td>0.926959</td>\n",
       "      <td>0.795961</td>\n",
       "    </tr>\n",
       "    <tr>\n",
       "      <th>298</th>\n",
       "      <td>0.656421</td>\n",
       "      <td>0.788149</td>\n",
       "      <td>0.846264</td>\n",
       "      <td>0.434976</td>\n",
       "      <td>0.925899</td>\n",
       "      <td>0.628711</td>\n",
       "    </tr>\n",
       "    <tr>\n",
       "      <th>299</th>\n",
       "      <td>0.116682</td>\n",
       "      <td>0.623028</td>\n",
       "      <td>0.274308</td>\n",
       "      <td>0.338656</td>\n",
       "      <td>0.910000</td>\n",
       "      <td>0.880066</td>\n",
       "    </tr>\n",
       "  </tbody>\n",
       "</table>\n",
       "<p>300 rows × 6 columns</p>\n",
       "</div>"
      ],
      "text/plain": [
       "            0         1         2         3         4         5\n",
       "0    0.545579  0.347931  0.525657  0.336868  0.142682  0.202976\n",
       "1    0.990999  0.200749  0.647512  0.449511  0.975153  0.683181\n",
       "2    0.021881  0.276406  0.819138  0.203921  0.196163  0.082591\n",
       "3    0.634794  0.807164  0.238600  0.121842  0.233556  0.988487\n",
       "4    0.643244  0.770679  0.464878  0.649428  0.575142  0.652470\n",
       "..        ...       ...       ...       ...       ...       ...\n",
       "295  0.049066  0.685780  0.605838  0.838890  0.476481  0.638363\n",
       "296  0.049769  0.599545  0.998941  0.456150  0.906415  0.214843\n",
       "297  0.132586  0.650838  0.777211  0.516814  0.926959  0.795961\n",
       "298  0.656421  0.788149  0.846264  0.434976  0.925899  0.628711\n",
       "299  0.116682  0.623028  0.274308  0.338656  0.910000  0.880066\n",
       "\n",
       "[300 rows x 6 columns]"
      ]
     },
     "execution_count": 12,
     "metadata": {},
     "output_type": "execute_result"
    }
   ],
   "source": [
    "df = pd.DataFrame(np.random.rand(300,6),index = np.arange(300))\n",
    "df"
   ]
  },
  {
   "cell_type": "code",
   "execution_count": 13,
   "id": "07246eb5",
   "metadata": {},
   "outputs": [
    {
     "data": {
      "text/plain": [
       "pandas.core.frame.DataFrame"
      ]
     },
     "execution_count": 13,
     "metadata": {},
     "output_type": "execute_result"
    }
   ],
   "source": [
    "type(df)"
   ]
  },
  {
   "cell_type": "code",
   "execution_count": 15,
   "id": "5c8e7c7b",
   "metadata": {},
   "outputs": [
    {
     "data": {
      "text/html": [
       "<div>\n",
       "<style scoped>\n",
       "    .dataframe tbody tr th:only-of-type {\n",
       "        vertical-align: middle;\n",
       "    }\n",
       "\n",
       "    .dataframe tbody tr th {\n",
       "        vertical-align: top;\n",
       "    }\n",
       "\n",
       "    .dataframe thead th {\n",
       "        text-align: right;\n",
       "    }\n",
       "</style>\n",
       "<table border=\"1\" class=\"dataframe\">\n",
       "  <thead>\n",
       "    <tr style=\"text-align: right;\">\n",
       "      <th></th>\n",
       "      <th>0</th>\n",
       "      <th>1</th>\n",
       "      <th>2</th>\n",
       "      <th>3</th>\n",
       "      <th>4</th>\n",
       "      <th>5</th>\n",
       "    </tr>\n",
       "  </thead>\n",
       "  <tbody>\n",
       "    <tr>\n",
       "      <th>count</th>\n",
       "      <td>300.000000</td>\n",
       "      <td>300.000000</td>\n",
       "      <td>300.000000</td>\n",
       "      <td>300.000000</td>\n",
       "      <td>300.000000</td>\n",
       "      <td>300.000000</td>\n",
       "    </tr>\n",
       "    <tr>\n",
       "      <th>mean</th>\n",
       "      <td>0.490930</td>\n",
       "      <td>0.498822</td>\n",
       "      <td>0.477156</td>\n",
       "      <td>0.510151</td>\n",
       "      <td>0.512431</td>\n",
       "      <td>0.522209</td>\n",
       "    </tr>\n",
       "    <tr>\n",
       "      <th>std</th>\n",
       "      <td>0.294220</td>\n",
       "      <td>0.287268</td>\n",
       "      <td>0.297194</td>\n",
       "      <td>0.289212</td>\n",
       "      <td>0.298820</td>\n",
       "      <td>0.279426</td>\n",
       "    </tr>\n",
       "    <tr>\n",
       "      <th>min</th>\n",
       "      <td>0.000243</td>\n",
       "      <td>0.000085</td>\n",
       "      <td>0.000576</td>\n",
       "      <td>0.003107</td>\n",
       "      <td>0.002143</td>\n",
       "      <td>0.000926</td>\n",
       "    </tr>\n",
       "    <tr>\n",
       "      <th>25%</th>\n",
       "      <td>0.217387</td>\n",
       "      <td>0.245626</td>\n",
       "      <td>0.223098</td>\n",
       "      <td>0.260375</td>\n",
       "      <td>0.249870</td>\n",
       "      <td>0.300040</td>\n",
       "    </tr>\n",
       "    <tr>\n",
       "      <th>50%</th>\n",
       "      <td>0.484667</td>\n",
       "      <td>0.515247</td>\n",
       "      <td>0.474112</td>\n",
       "      <td>0.504176</td>\n",
       "      <td>0.495421</td>\n",
       "      <td>0.537052</td>\n",
       "    </tr>\n",
       "    <tr>\n",
       "      <th>75%</th>\n",
       "      <td>0.743260</td>\n",
       "      <td>0.734763</td>\n",
       "      <td>0.756567</td>\n",
       "      <td>0.770770</td>\n",
       "      <td>0.793657</td>\n",
       "      <td>0.760510</td>\n",
       "    </tr>\n",
       "    <tr>\n",
       "      <th>max</th>\n",
       "      <td>0.998902</td>\n",
       "      <td>0.997953</td>\n",
       "      <td>0.999097</td>\n",
       "      <td>0.997855</td>\n",
       "      <td>0.999387</td>\n",
       "      <td>0.997200</td>\n",
       "    </tr>\n",
       "  </tbody>\n",
       "</table>\n",
       "</div>"
      ],
      "text/plain": [
       "                0           1           2           3           4           5\n",
       "count  300.000000  300.000000  300.000000  300.000000  300.000000  300.000000\n",
       "mean     0.490930    0.498822    0.477156    0.510151    0.512431    0.522209\n",
       "std      0.294220    0.287268    0.297194    0.289212    0.298820    0.279426\n",
       "min      0.000243    0.000085    0.000576    0.003107    0.002143    0.000926\n",
       "25%      0.217387    0.245626    0.223098    0.260375    0.249870    0.300040\n",
       "50%      0.484667    0.515247    0.474112    0.504176    0.495421    0.537052\n",
       "75%      0.743260    0.734763    0.756567    0.770770    0.793657    0.760510\n",
       "max      0.998902    0.997953    0.999097    0.997855    0.999387    0.997200"
      ]
     },
     "execution_count": 15,
     "metadata": {},
     "output_type": "execute_result"
    }
   ],
   "source": [
    "# summary\n",
    "df.describe()"
   ]
  },
  {
   "cell_type": "code",
   "execution_count": 16,
   "id": "49ff49f8",
   "metadata": {},
   "outputs": [
    {
     "data": {
      "text/plain": [
       "Int64Index([  0,   1,   2,   3,   4,   5,   6,   7,   8,   9,\n",
       "            ...\n",
       "            290, 291, 292, 293, 294, 295, 296, 297, 298, 299],\n",
       "           dtype='int64', length=300)"
      ]
     },
     "execution_count": 16,
     "metadata": {},
     "output_type": "execute_result"
    }
   ],
   "source": [
    "df.index"
   ]
  },
  {
   "cell_type": "code",
   "execution_count": 17,
   "id": "4f25d40c",
   "metadata": {},
   "outputs": [
    {
     "data": {
      "text/plain": [
       "RangeIndex(start=0, stop=6, step=1)"
      ]
     },
     "execution_count": 17,
     "metadata": {},
     "output_type": "execute_result"
    }
   ],
   "source": [
    "df.columns"
   ]
  },
  {
   "cell_type": "code",
   "execution_count": null,
   "id": "d026f751",
   "metadata": {},
   "outputs": [],
   "source": []
  },
  {
   "cell_type": "code",
   "execution_count": null,
   "id": "960029eb",
   "metadata": {},
   "outputs": [],
   "source": []
  }
 ],
 "metadata": {
  "kernelspec": {
   "display_name": "Python 3 (ipykernel)",
   "language": "python",
   "name": "python3"
  },
  "language_info": {
   "codemirror_mode": {
    "name": "ipython",
    "version": 3
   },
   "file_extension": ".py",
   "mimetype": "text/x-python",
   "name": "python",
   "nbconvert_exporter": "python",
   "pygments_lexer": "ipython3",
   "version": "3.10.9"
  }
 },
 "nbformat": 4,
 "nbformat_minor": 5
}
